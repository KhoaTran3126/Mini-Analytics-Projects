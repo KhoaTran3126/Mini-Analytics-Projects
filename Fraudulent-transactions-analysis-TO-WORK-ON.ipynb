{
 "cells": [
  {
   "cell_type": "code",
   "execution_count": 1,
   "id": "923b7493",
   "metadata": {
    "execution": {
     "iopub.execute_input": "2024-11-02T15:59:18.433995Z",
     "iopub.status.busy": "2024-11-02T15:59:18.433552Z",
     "iopub.status.idle": "2024-11-02T15:59:22.111028Z",
     "shell.execute_reply": "2024-11-02T15:59:22.109798Z"
    },
    "papermill": {
     "duration": 3.686487,
     "end_time": "2024-11-02T15:59:22.114193",
     "exception": false,
     "start_time": "2024-11-02T15:59:18.427706",
     "status": "completed"
    },
    "tags": []
   },
   "outputs": [],
   "source": [
    "import numpy as np\n",
    "import pandas as pd\n",
    "import polars as pl\n",
    "import polars.selectors as pls\n",
    "import seaborn as sea\n",
    "import matplotlib.pyplot as plt"
   ]
  },
  {
   "cell_type": "markdown",
   "id": "7b193f10",
   "metadata": {
    "papermill": {
     "duration": 0.003271,
     "end_time": "2024-11-02T15:59:22.121694",
     "exception": false,
     "start_time": "2024-11-02T15:59:22.118423",
     "status": "completed"
    },
    "tags": []
   },
   "source": [
    "# Loads Data"
   ]
  },
  {
   "cell_type": "code",
   "execution_count": 2,
   "id": "9ff43427",
   "metadata": {
    "execution": {
     "iopub.execute_input": "2024-11-02T15:59:22.130815Z",
     "iopub.status.busy": "2024-11-02T15:59:22.130176Z",
     "iopub.status.idle": "2024-11-02T15:59:34.717830Z",
     "shell.execute_reply": "2024-11-02T15:59:34.716524Z"
    },
    "papermill": {
     "duration": 12.595737,
     "end_time": "2024-11-02T15:59:34.720993",
     "exception": false,
     "start_time": "2024-11-02T15:59:22.125256",
     "status": "completed"
    },
    "tags": []
   },
   "outputs": [],
   "source": [
    "data = pl.read_csv(\"/kaggle/input/transactions/synthetic_fraud_data.csv\")"
   ]
  },
  {
   "cell_type": "code",
   "execution_count": 3,
   "id": "40fd0c67",
   "metadata": {
    "execution": {
     "iopub.execute_input": "2024-11-02T15:59:34.729931Z",
     "iopub.status.busy": "2024-11-02T15:59:34.729503Z",
     "iopub.status.idle": "2024-11-02T15:59:34.764942Z",
     "shell.execute_reply": "2024-11-02T15:59:34.763750Z"
    },
    "papermill": {
     "duration": 0.042858,
     "end_time": "2024-11-02T15:59:34.767513",
     "exception": false,
     "start_time": "2024-11-02T15:59:34.724655",
     "status": "completed"
    },
    "tags": []
   },
   "outputs": [
    {
     "data": {
      "text/html": [
       "<div><style>\n",
       ".dataframe > thead > tr,\n",
       ".dataframe > tbody > tr {\n",
       "  text-align: right;\n",
       "  white-space: pre-wrap;\n",
       "}\n",
       "</style>\n",
       "<small>shape: (5, 24)</small><table border=\"1\" class=\"dataframe\"><thead><tr><th>transaction_id</th><th>customer_id</th><th>card_number</th><th>timestamp</th><th>merchant_category</th><th>merchant_type</th><th>merchant</th><th>amount</th><th>currency</th><th>country</th><th>city</th><th>city_size</th><th>card_type</th><th>card_present</th><th>device</th><th>channel</th><th>device_fingerprint</th><th>ip_address</th><th>distance_from_home</th><th>high_risk_merchant</th><th>transaction_hour</th><th>weekend_transaction</th><th>velocity_last_hour</th><th>is_fraud</th></tr><tr><td>str</td><td>str</td><td>i64</td><td>str</td><td>str</td><td>str</td><td>str</td><td>f64</td><td>str</td><td>str</td><td>str</td><td>str</td><td>str</td><td>bool</td><td>str</td><td>str</td><td>str</td><td>str</td><td>i64</td><td>bool</td><td>i64</td><td>bool</td><td>str</td><td>bool</td></tr></thead><tbody><tr><td>&quot;TX_a0ad2a2a&quot;</td><td>&quot;CUST_72886&quot;</td><td>6646734767813109</td><td>&quot;2024-09-30 00:00:01.034820+00:…</td><td>&quot;Restaurant&quot;</td><td>&quot;fast_food&quot;</td><td>&quot;Taco Bell&quot;</td><td>294.87</td><td>&quot;GBP&quot;</td><td>&quot;UK&quot;</td><td>&quot;Unknown City&quot;</td><td>&quot;medium&quot;</td><td>&quot;Platinum Credit&quot;</td><td>false</td><td>&quot;iOS App&quot;</td><td>&quot;mobile&quot;</td><td>&quot;e8e6160445c935fd0001501e4cbac8…</td><td>&quot;197.153.60.199&quot;</td><td>0</td><td>false</td><td>0</td><td>false</td><td>&quot;{&#x27;num_transactions&#x27;: 1197, &#x27;to…</td><td>false</td></tr><tr><td>&quot;TX_3599c101&quot;</td><td>&quot;CUST_70474&quot;</td><td>376800864692727</td><td>&quot;2024-09-30 00:00:01.764464+00:…</td><td>&quot;Entertainment&quot;</td><td>&quot;gaming&quot;</td><td>&quot;Steam&quot;</td><td>3368.97</td><td>&quot;BRL&quot;</td><td>&quot;Brazil&quot;</td><td>&quot;Unknown City&quot;</td><td>&quot;medium&quot;</td><td>&quot;Platinum Credit&quot;</td><td>false</td><td>&quot;Edge&quot;</td><td>&quot;web&quot;</td><td>&quot;a73043a57091e775af37f252b3a32a…</td><td>&quot;208.123.221.203&quot;</td><td>1</td><td>true</td><td>0</td><td>false</td><td>&quot;{&#x27;num_transactions&#x27;: 509, &#x27;tot…</td><td>true</td></tr><tr><td>&quot;TX_a9461c6d&quot;</td><td>&quot;CUST_10715&quot;</td><td>5251909460951913</td><td>&quot;2024-09-30 00:00:02.273762+00:…</td><td>&quot;Grocery&quot;</td><td>&quot;physical&quot;</td><td>&quot;Whole Foods&quot;</td><td>102582.38</td><td>&quot;JPY&quot;</td><td>&quot;Japan&quot;</td><td>&quot;Unknown City&quot;</td><td>&quot;medium&quot;</td><td>&quot;Platinum Credit&quot;</td><td>false</td><td>&quot;Firefox&quot;</td><td>&quot;web&quot;</td><td>&quot;218864e94ceaa41577d216b1497222…</td><td>&quot;10.194.159.204&quot;</td><td>0</td><td>false</td><td>0</td><td>false</td><td>&quot;{&#x27;num_transactions&#x27;: 332, &#x27;tot…</td><td>false</td></tr><tr><td>&quot;TX_7be21fc4&quot;</td><td>&quot;CUST_16193&quot;</td><td>376079286931183</td><td>&quot;2024-09-30 00:00:02.297466+00:…</td><td>&quot;Gas&quot;</td><td>&quot;major&quot;</td><td>&quot;Exxon&quot;</td><td>630.6</td><td>&quot;AUD&quot;</td><td>&quot;Australia&quot;</td><td>&quot;Unknown City&quot;</td><td>&quot;medium&quot;</td><td>&quot;Premium Debit&quot;</td><td>false</td><td>&quot;iOS App&quot;</td><td>&quot;mobile&quot;</td><td>&quot;70423fa3a1e74d01203cf93b51b963…</td><td>&quot;17.230.177.225&quot;</td><td>0</td><td>false</td><td>0</td><td>false</td><td>&quot;{&#x27;num_transactions&#x27;: 764, &#x27;tot…</td><td>false</td></tr><tr><td>&quot;TX_150f490b&quot;</td><td>&quot;CUST_87572&quot;</td><td>6172948052178810</td><td>&quot;2024-09-30 00:00:02.544063+00:…</td><td>&quot;Healthcare&quot;</td><td>&quot;medical&quot;</td><td>&quot;Medical Center&quot;</td><td>724949.27</td><td>&quot;NGN&quot;</td><td>&quot;Nigeria&quot;</td><td>&quot;Unknown City&quot;</td><td>&quot;medium&quot;</td><td>&quot;Basic Debit&quot;</td><td>false</td><td>&quot;Chrome&quot;</td><td>&quot;web&quot;</td><td>&quot;9880776c7b6038f2af86bd4e18a1b1…</td><td>&quot;136.241.219.151&quot;</td><td>1</td><td>false</td><td>0</td><td>false</td><td>&quot;{&#x27;num_transactions&#x27;: 218, &#x27;tot…</td><td>true</td></tr></tbody></table></div>"
      ],
      "text/plain": [
       "shape: (5, 24)\n",
       "┌───────────┬───────────┬───────────┬───────────┬───┬───────────┬───────────┬───────────┬──────────┐\n",
       "│ transacti ┆ customer_ ┆ card_numb ┆ timestamp ┆ … ┆ transacti ┆ weekend_t ┆ velocity_ ┆ is_fraud │\n",
       "│ on_id     ┆ id        ┆ er        ┆ ---       ┆   ┆ on_hour   ┆ ransactio ┆ last_hour ┆ ---      │\n",
       "│ ---       ┆ ---       ┆ ---       ┆ str       ┆   ┆ ---       ┆ n         ┆ ---       ┆ bool     │\n",
       "│ str       ┆ str       ┆ i64       ┆           ┆   ┆ i64       ┆ ---       ┆ str       ┆          │\n",
       "│           ┆           ┆           ┆           ┆   ┆           ┆ bool      ┆           ┆          │\n",
       "╞═══════════╪═══════════╪═══════════╪═══════════╪═══╪═══════════╪═══════════╪═══════════╪══════════╡\n",
       "│ TX_a0ad2a ┆ CUST_7288 ┆ 664673476 ┆ 2024-09-3 ┆ … ┆ 0         ┆ false     ┆ {'num_tra ┆ false    │\n",
       "│ 2a        ┆ 6         ┆ 7813109   ┆ 0 00:00:0 ┆   ┆           ┆           ┆ nsactions ┆          │\n",
       "│           ┆           ┆           ┆ 1.034820+ ┆   ┆           ┆           ┆ ': 1197,  ┆          │\n",
       "│           ┆           ┆           ┆ 00:…      ┆   ┆           ┆           ┆ 'to…      ┆          │\n",
       "│ TX_3599c1 ┆ CUST_7047 ┆ 376800864 ┆ 2024-09-3 ┆ … ┆ 0         ┆ false     ┆ {'num_tra ┆ true     │\n",
       "│ 01        ┆ 4         ┆ 692727    ┆ 0 00:00:0 ┆   ┆           ┆           ┆ nsactions ┆          │\n",
       "│           ┆           ┆           ┆ 1.764464+ ┆   ┆           ┆           ┆ ': 509,   ┆          │\n",
       "│           ┆           ┆           ┆ 00:…      ┆   ┆           ┆           ┆ 'tot…     ┆          │\n",
       "│ TX_a9461c ┆ CUST_1071 ┆ 525190946 ┆ 2024-09-3 ┆ … ┆ 0         ┆ false     ┆ {'num_tra ┆ false    │\n",
       "│ 6d        ┆ 5         ┆ 0951913   ┆ 0 00:00:0 ┆   ┆           ┆           ┆ nsactions ┆          │\n",
       "│           ┆           ┆           ┆ 2.273762+ ┆   ┆           ┆           ┆ ': 332,   ┆          │\n",
       "│           ┆           ┆           ┆ 00:…      ┆   ┆           ┆           ┆ 'tot…     ┆          │\n",
       "│ TX_7be21f ┆ CUST_1619 ┆ 376079286 ┆ 2024-09-3 ┆ … ┆ 0         ┆ false     ┆ {'num_tra ┆ false    │\n",
       "│ c4        ┆ 3         ┆ 931183    ┆ 0 00:00:0 ┆   ┆           ┆           ┆ nsactions ┆          │\n",
       "│           ┆           ┆           ┆ 2.297466+ ┆   ┆           ┆           ┆ ': 764,   ┆          │\n",
       "│           ┆           ┆           ┆ 00:…      ┆   ┆           ┆           ┆ 'tot…     ┆          │\n",
       "│ TX_150f49 ┆ CUST_8757 ┆ 617294805 ┆ 2024-09-3 ┆ … ┆ 0         ┆ false     ┆ {'num_tra ┆ true     │\n",
       "│ 0b        ┆ 2         ┆ 2178810   ┆ 0 00:00:0 ┆   ┆           ┆           ┆ nsactions ┆          │\n",
       "│           ┆           ┆           ┆ 2.544063+ ┆   ┆           ┆           ┆ ': 218,   ┆          │\n",
       "│           ┆           ┆           ┆ 00:…      ┆   ┆           ┆           ┆ 'tot…     ┆          │\n",
       "└───────────┴───────────┴───────────┴───────────┴───┴───────────┴───────────┴───────────┴──────────┘"
      ]
     },
     "execution_count": 3,
     "metadata": {},
     "output_type": "execute_result"
    }
   ],
   "source": [
    "data.head()"
   ]
  },
  {
   "cell_type": "code",
   "execution_count": 4,
   "id": "a389fd50",
   "metadata": {
    "execution": {
     "iopub.execute_input": "2024-11-02T15:59:34.777339Z",
     "iopub.status.busy": "2024-11-02T15:59:34.776870Z",
     "iopub.status.idle": "2024-11-02T15:59:34.846725Z",
     "shell.execute_reply": "2024-11-02T15:59:34.845178Z"
    },
    "papermill": {
     "duration": 0.078107,
     "end_time": "2024-11-02T15:59:34.849698",
     "exception": false,
     "start_time": "2024-11-02T15:59:34.771591",
     "status": "completed"
    },
    "tags": []
   },
   "outputs": [
    {
     "data": {
      "text/html": [
       "<div>\n",
       "<style scoped>\n",
       "    .dataframe tbody tr th:only-of-type {\n",
       "        vertical-align: middle;\n",
       "    }\n",
       "\n",
       "    .dataframe tbody tr th {\n",
       "        vertical-align: top;\n",
       "    }\n",
       "\n",
       "    .dataframe thead th {\n",
       "        text-align: right;\n",
       "    }\n",
       "</style>\n",
       "<table border=\"1\" class=\"dataframe\">\n",
       "  <thead>\n",
       "    <tr style=\"text-align: right;\">\n",
       "      <th></th>\n",
       "      <th>NA_count</th>\n",
       "    </tr>\n",
       "  </thead>\n",
       "  <tbody>\n",
       "    <tr>\n",
       "      <th>transaction_id</th>\n",
       "      <td>0</td>\n",
       "    </tr>\n",
       "    <tr>\n",
       "      <th>customer_id</th>\n",
       "      <td>0</td>\n",
       "    </tr>\n",
       "    <tr>\n",
       "      <th>card_number</th>\n",
       "      <td>0</td>\n",
       "    </tr>\n",
       "    <tr>\n",
       "      <th>timestamp</th>\n",
       "      <td>0</td>\n",
       "    </tr>\n",
       "    <tr>\n",
       "      <th>merchant_category</th>\n",
       "      <td>0</td>\n",
       "    </tr>\n",
       "    <tr>\n",
       "      <th>merchant_type</th>\n",
       "      <td>0</td>\n",
       "    </tr>\n",
       "    <tr>\n",
       "      <th>merchant</th>\n",
       "      <td>0</td>\n",
       "    </tr>\n",
       "    <tr>\n",
       "      <th>amount</th>\n",
       "      <td>0</td>\n",
       "    </tr>\n",
       "    <tr>\n",
       "      <th>currency</th>\n",
       "      <td>0</td>\n",
       "    </tr>\n",
       "    <tr>\n",
       "      <th>country</th>\n",
       "      <td>0</td>\n",
       "    </tr>\n",
       "    <tr>\n",
       "      <th>city</th>\n",
       "      <td>0</td>\n",
       "    </tr>\n",
       "    <tr>\n",
       "      <th>city_size</th>\n",
       "      <td>0</td>\n",
       "    </tr>\n",
       "    <tr>\n",
       "      <th>card_type</th>\n",
       "      <td>0</td>\n",
       "    </tr>\n",
       "    <tr>\n",
       "      <th>card_present</th>\n",
       "      <td>0</td>\n",
       "    </tr>\n",
       "    <tr>\n",
       "      <th>device</th>\n",
       "      <td>0</td>\n",
       "    </tr>\n",
       "    <tr>\n",
       "      <th>channel</th>\n",
       "      <td>0</td>\n",
       "    </tr>\n",
       "    <tr>\n",
       "      <th>device_fingerprint</th>\n",
       "      <td>0</td>\n",
       "    </tr>\n",
       "    <tr>\n",
       "      <th>ip_address</th>\n",
       "      <td>0</td>\n",
       "    </tr>\n",
       "    <tr>\n",
       "      <th>distance_from_home</th>\n",
       "      <td>0</td>\n",
       "    </tr>\n",
       "    <tr>\n",
       "      <th>high_risk_merchant</th>\n",
       "      <td>0</td>\n",
       "    </tr>\n",
       "    <tr>\n",
       "      <th>transaction_hour</th>\n",
       "      <td>0</td>\n",
       "    </tr>\n",
       "    <tr>\n",
       "      <th>weekend_transaction</th>\n",
       "      <td>0</td>\n",
       "    </tr>\n",
       "    <tr>\n",
       "      <th>velocity_last_hour</th>\n",
       "      <td>0</td>\n",
       "    </tr>\n",
       "    <tr>\n",
       "      <th>is_fraud</th>\n",
       "      <td>0</td>\n",
       "    </tr>\n",
       "  </tbody>\n",
       "</table>\n",
       "</div>"
      ],
      "text/plain": [
       "                     NA_count\n",
       "transaction_id              0\n",
       "customer_id                 0\n",
       "card_number                 0\n",
       "timestamp                   0\n",
       "merchant_category           0\n",
       "merchant_type               0\n",
       "merchant                    0\n",
       "amount                      0\n",
       "currency                    0\n",
       "country                     0\n",
       "city                        0\n",
       "city_size                   0\n",
       "card_type                   0\n",
       "card_present                0\n",
       "device                      0\n",
       "channel                     0\n",
       "device_fingerprint          0\n",
       "ip_address                  0\n",
       "distance_from_home          0\n",
       "high_risk_merchant          0\n",
       "transaction_hour            0\n",
       "weekend_transaction         0\n",
       "velocity_last_hour          0\n",
       "is_fraud                    0"
      ]
     },
     "execution_count": 4,
     "metadata": {},
     "output_type": "execute_result"
    }
   ],
   "source": [
    "## Inspects for NA count in data\n",
    "data.null_count().to_pandas().T.rename(columns={0:\"NA_count\"})"
   ]
  },
  {
   "cell_type": "markdown",
   "id": "29896fb6",
   "metadata": {
    "papermill": {
     "duration": 0.00391,
     "end_time": "2024-11-02T15:59:34.858013",
     "exception": false,
     "start_time": "2024-11-02T15:59:34.854103",
     "status": "completed"
    },
    "tags": []
   },
   "source": [
    "# Inspecting Numerical Features"
   ]
  },
  {
   "cell_type": "code",
   "execution_count": 5,
   "id": "495ea9c6",
   "metadata": {
    "execution": {
     "iopub.execute_input": "2024-11-02T15:59:34.868202Z",
     "iopub.status.busy": "2024-11-02T15:59:34.867729Z",
     "iopub.status.idle": "2024-11-02T15:59:34.922187Z",
     "shell.execute_reply": "2024-11-02T15:59:34.920990Z"
    },
    "papermill": {
     "duration": 0.062851,
     "end_time": "2024-11-02T15:59:34.925061",
     "exception": false,
     "start_time": "2024-11-02T15:59:34.862210",
     "status": "completed"
    },
    "tags": []
   },
   "outputs": [
    {
     "data": {
      "text/html": [
       "<div><style>\n",
       ".dataframe > thead > tr,\n",
       ".dataframe > tbody > tr {\n",
       "  text-align: right;\n",
       "  white-space: pre-wrap;\n",
       "}\n",
       "</style>\n",
       "<small>shape: (5, 4)</small><table border=\"1\" class=\"dataframe\"><thead><tr><th>card_number</th><th>amount</th><th>distance_from_home</th><th>transaction_hour</th></tr><tr><td>i64</td><td>f64</td><td>i64</td><td>i64</td></tr></thead><tbody><tr><td>6646734767813109</td><td>294.87</td><td>0</td><td>0</td></tr><tr><td>376800864692727</td><td>3368.97</td><td>1</td><td>0</td></tr><tr><td>5251909460951913</td><td>102582.38</td><td>0</td><td>0</td></tr><tr><td>376079286931183</td><td>630.6</td><td>0</td><td>0</td></tr><tr><td>6172948052178810</td><td>724949.27</td><td>1</td><td>0</td></tr></tbody></table></div>"
      ],
      "text/plain": [
       "shape: (5, 4)\n",
       "┌──────────────────┬───────────┬────────────────────┬──────────────────┐\n",
       "│ card_number      ┆ amount    ┆ distance_from_home ┆ transaction_hour │\n",
       "│ ---              ┆ ---       ┆ ---                ┆ ---              │\n",
       "│ i64              ┆ f64       ┆ i64                ┆ i64              │\n",
       "╞══════════════════╪═══════════╪════════════════════╪══════════════════╡\n",
       "│ 6646734767813109 ┆ 294.87    ┆ 0                  ┆ 0                │\n",
       "│ 376800864692727  ┆ 3368.97   ┆ 1                  ┆ 0                │\n",
       "│ 5251909460951913 ┆ 102582.38 ┆ 0                  ┆ 0                │\n",
       "│ 376079286931183  ┆ 630.6     ┆ 0                  ┆ 0                │\n",
       "│ 6172948052178810 ┆ 724949.27 ┆ 1                  ┆ 0                │\n",
       "└──────────────────┴───────────┴────────────────────┴──────────────────┘"
      ]
     },
     "execution_count": 5,
     "metadata": {},
     "output_type": "execute_result"
    }
   ],
   "source": [
    "data.select(pls.numeric()).head(5)"
   ]
  },
  {
   "cell_type": "code",
   "execution_count": null,
   "id": "68c4c92c",
   "metadata": {
    "papermill": {
     "duration": 0.004321,
     "end_time": "2024-11-02T15:59:34.933981",
     "exception": false,
     "start_time": "2024-11-02T15:59:34.929660",
     "status": "completed"
    },
    "tags": []
   },
   "outputs": [],
   "source": []
  }
 ],
 "metadata": {
  "kaggle": {
   "accelerator": "none",
   "dataSources": [
    {
     "datasetId": 5980078,
     "sourceId": 9764645,
     "sourceType": "datasetVersion"
    }
   ],
   "dockerImageVersionId": 30786,
   "isGpuEnabled": false,
   "isInternetEnabled": true,
   "language": "python",
   "sourceType": "notebook"
  },
  "kernelspec": {
   "display_name": "Python 3",
   "language": "python",
   "name": "python3"
  },
  "language_info": {
   "codemirror_mode": {
    "name": "ipython",
    "version": 3
   },
   "file_extension": ".py",
   "mimetype": "text/x-python",
   "name": "python",
   "nbconvert_exporter": "python",
   "pygments_lexer": "ipython3",
   "version": "3.10.14"
  },
  "papermill": {
   "default_parameters": {},
   "duration": 20.906862,
   "end_time": "2024-11-02T15:59:36.062315",
   "environment_variables": {},
   "exception": null,
   "input_path": "__notebook__.ipynb",
   "output_path": "__notebook__.ipynb",
   "parameters": {},
   "start_time": "2024-11-02T15:59:15.155453",
   "version": "2.6.0"
  }
 },
 "nbformat": 4,
 "nbformat_minor": 5
}
