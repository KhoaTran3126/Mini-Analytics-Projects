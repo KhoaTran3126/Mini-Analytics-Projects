{
 "cells": [
  {
   "cell_type": "code",
   "execution_count": 1,
   "id": "2fa01a28",
   "metadata": {
    "_kg_hide-input": true,
    "_kg_hide-output": true,
    "collapsed": true,
    "execution": {
     "iopub.execute_input": "2024-11-02T16:38:53.401799Z",
     "iopub.status.busy": "2024-11-02T16:38:53.399445Z",
     "iopub.status.idle": "2024-11-02T16:38:54.941839Z",
     "shell.execute_reply": "2024-11-02T16:38:54.939904Z"
    },
    "jupyter": {
     "outputs_hidden": true,
     "source_hidden": true
    },
    "papermill": {
     "duration": 1.55225,
     "end_time": "2024-11-02T16:38:54.944639",
     "exception": false,
     "start_time": "2024-11-02T16:38:53.392389",
     "status": "completed"
    },
    "tags": []
   },
   "outputs": [
    {
     "name": "stderr",
     "output_type": "stream",
     "text": [
      "── \u001b[1mAttaching core tidyverse packages\u001b[22m ──────────────────────── tidyverse 2.0.0 ──\n",
      "\u001b[32m✔\u001b[39m \u001b[34mdplyr    \u001b[39m 1.1.4     \u001b[32m✔\u001b[39m \u001b[34mreadr    \u001b[39m 2.1.5\n",
      "\u001b[32m✔\u001b[39m \u001b[34mforcats  \u001b[39m 1.0.0     \u001b[32m✔\u001b[39m \u001b[34mstringr  \u001b[39m 1.5.1\n",
      "\u001b[32m✔\u001b[39m \u001b[34mggplot2  \u001b[39m 3.5.1     \u001b[32m✔\u001b[39m \u001b[34mtibble   \u001b[39m 3.2.1\n",
      "\u001b[32m✔\u001b[39m \u001b[34mlubridate\u001b[39m 1.9.3     \u001b[32m✔\u001b[39m \u001b[34mtidyr    \u001b[39m 1.3.1\n",
      "\u001b[32m✔\u001b[39m \u001b[34mpurrr    \u001b[39m 1.0.2     \n"
     ]
    },
    {
     "name": "stderr",
     "output_type": "stream",
     "text": [
      "── \u001b[1mConflicts\u001b[22m ────────────────────────────────────────── tidyverse_conflicts() ──\n",
      "\u001b[31m✖\u001b[39m \u001b[34mdplyr\u001b[39m::\u001b[32mfilter()\u001b[39m masks \u001b[34mstats\u001b[39m::filter()\n",
      "\u001b[31m✖\u001b[39m \u001b[34mdplyr\u001b[39m::\u001b[32mlag()\u001b[39m    masks \u001b[34mstats\u001b[39m::lag()\n",
      "\u001b[36mℹ\u001b[39m Use the conflicted package (\u001b[3m\u001b[34m<http://conflicted.r-lib.org/>\u001b[39m\u001b[23m) to force all conflicts to become errors\n"
     ]
    },
    {
     "name": "stderr",
     "output_type": "stream",
     "text": [
      "\n",
      "Attaching package: ‘data.table’\n",
      "\n",
      "\n"
     ]
    },
    {
     "name": "stderr",
     "output_type": "stream",
     "text": [
      "The following objects are masked from ‘package:lubridate’:\n",
      "\n",
      "    hour, isoweek, mday, minute, month, quarter, second, wday, week,\n",
      "    yday, year\n",
      "\n",
      "\n"
     ]
    },
    {
     "name": "stderr",
     "output_type": "stream",
     "text": [
      "The following objects are masked from ‘package:dplyr’:\n",
      "\n",
      "    between, first, last\n",
      "\n",
      "\n"
     ]
    },
    {
     "name": "stderr",
     "output_type": "stream",
     "text": [
      "The following object is masked from ‘package:purrr’:\n",
      "\n",
      "    transpose\n",
      "\n",
      "\n"
     ]
    }
   ],
   "source": [
    "library(tidyverse) \n",
    "library(data.table) \n",
    "library(patchwork) \n",
    "\n",
    "## Theme 1\n",
    "theme_custom <- theme_classic() +\n",
    "                theme(## Axis labels\n",
    "                      axis.text.x = element_text(size=18, family=\"Econ Sans Cnd light\"),\n",
    "                      axis.text.y = element_text(size=18, family=\"Econ Sans Cnd light\"),\n",
    "                      ## Title, subtitle, caption, legend\n",
    "                      plot.title = element_text(size=22, face=\"bold\", family=\"Econ Sans Cnd bold\", \n",
    "                                                hjust = 0, vjust = 1, margin = margin(b = 10)),\n",
    "                      plot.subtitle = element_text(size=18, family=\"Econ Sans Cnd regular\",\n",
    "                                                   hjust = 0),\n",
    "                      plot.caption = element_text(size=12, face=\"bold\", family=\"Econ Sans Cnd light\", hjust=0, colour=\"#6F8793\"),\n",
    "                      legend.position = \"top\",\n",
    "                      legend.text = element_text(size=15, hjust=0, vjust=.1),\n",
    "                      legend.title = element_blank(),\n",
    "                      ## y-axis lines\n",
    "                      panel.grid.major.y = element_line(color=\"#6F8793\")\n",
    "                     )\n",
    "               \n",
    "\n",
    "figsize <- function(width=22, heigth=8){\n",
    "    options(repr.plot.width=width, repr.plot.height=heigth)\n",
    "}\n",
    "figsize()"
   ]
  },
  {
   "cell_type": "markdown",
   "id": "7438acc0",
   "metadata": {
    "papermill": {
     "duration": 0.004501,
     "end_time": "2024-11-02T16:38:54.954476",
     "exception": false,
     "start_time": "2024-11-02T16:38:54.949975",
     "status": "completed"
    },
    "tags": []
   },
   "source": [
    "# Reading Data"
   ]
  },
  {
   "cell_type": "code",
   "execution_count": 2,
   "id": "590bac3b",
   "metadata": {
    "_kg_hide-output": true,
    "collapsed": true,
    "execution": {
     "iopub.execute_input": "2024-11-02T16:38:55.001821Z",
     "iopub.status.busy": "2024-11-02T16:38:54.966288Z",
     "iopub.status.idle": "2024-11-02T16:38:56.253651Z",
     "shell.execute_reply": "2024-11-02T16:38:56.251432Z"
    },
    "jupyter": {
     "outputs_hidden": true
    },
    "papermill": {
     "duration": 1.298114,
     "end_time": "2024-11-02T16:38:56.257526",
     "exception": false,
     "start_time": "2024-11-02T16:38:54.959412",
     "status": "completed"
    },
    "tags": []
   },
   "outputs": [
    {
     "name": "stderr",
     "output_type": "stream",
     "text": [
      "\u001b[1mRows: \u001b[22m\u001b[34m2556\u001b[39m \u001b[1mColumns: \u001b[22m\u001b[34m19\u001b[39m\n"
     ]
    },
    {
     "name": "stderr",
     "output_type": "stream",
     "text": [
      "\u001b[36m──\u001b[39m \u001b[1mColumn specification\u001b[22m \u001b[36m────────────────────────────────────────────────────────\u001b[39m\n",
      "\u001b[1mDelimiter:\u001b[22m \",\"\n",
      "\u001b[31mchr\u001b[39m (11): Name, Gender, City, Working Professional or Student, Profession, S...\n",
      "\u001b[32mdbl\u001b[39m  (8): Age, Academic Pressure, Work Pressure, CGPA, Study Satisfaction, J...\n"
     ]
    },
    {
     "name": "stderr",
     "output_type": "stream",
     "text": [
      "\n",
      "\u001b[36mℹ\u001b[39m Use `spec()` to retrieve the full column specification for this data.\n",
      "\u001b[36mℹ\u001b[39m Specify the column types or set `show_col_types = FALSE` to quiet this message.\n"
     ]
    },
    {
     "name": "stderr",
     "output_type": "stream",
     "text": [
      "\u001b[1mRows: \u001b[22m\u001b[34m140700\u001b[39m \u001b[1mColumns: \u001b[22m\u001b[34m20\u001b[39m\n"
     ]
    },
    {
     "name": "stderr",
     "output_type": "stream",
     "text": [
      "\u001b[36m──\u001b[39m \u001b[1mColumn specification\u001b[22m \u001b[36m────────────────────────────────────────────────────────\u001b[39m\n",
      "\u001b[1mDelimiter:\u001b[22m \",\"\n",
      "\u001b[31mchr\u001b[39m (10): Name, Gender, City, Working Professional or Student, Profession, S...\n",
      "\u001b[32mdbl\u001b[39m (10): id, Age, Academic Pressure, Work Pressure, CGPA, Study Satisfactio...\n"
     ]
    },
    {
     "name": "stderr",
     "output_type": "stream",
     "text": [
      "\n",
      "\u001b[36mℹ\u001b[39m Use `spec()` to retrieve the full column specification for this data.\n",
      "\u001b[36mℹ\u001b[39m Specify the column types or set `show_col_types = FALSE` to quiet this message.\n"
     ]
    },
    {
     "name": "stderr",
     "output_type": "stream",
     "text": [
      "\u001b[1mRows: \u001b[22m\u001b[34m93800\u001b[39m \u001b[1mColumns: \u001b[22m\u001b[34m19\u001b[39m\n"
     ]
    },
    {
     "name": "stderr",
     "output_type": "stream",
     "text": [
      "\u001b[36m──\u001b[39m \u001b[1mColumn specification\u001b[22m \u001b[36m────────────────────────────────────────────────────────\u001b[39m\n",
      "\u001b[1mDelimiter:\u001b[22m \",\"\n",
      "\u001b[31mchr\u001b[39m (10): Name, Gender, City, Working Professional or Student, Profession, S...\n",
      "\u001b[32mdbl\u001b[39m  (9): id, Age, Academic Pressure, Work Pressure, CGPA, Study Satisfactio...\n"
     ]
    },
    {
     "name": "stderr",
     "output_type": "stream",
     "text": [
      "\n",
      "\u001b[36mℹ\u001b[39m Use `spec()` to retrieve the full column specification for this data.\n",
      "\u001b[36mℹ\u001b[39m Specify the column types or set `show_col_types = FALSE` to quiet this message.\n"
     ]
    },
    {
     "name": "stderr",
     "output_type": "stream",
     "text": [
      "\u001b[1mRows: \u001b[22m\u001b[34m93800\u001b[39m \u001b[1mColumns: \u001b[22m\u001b[34m2\u001b[39m\n"
     ]
    },
    {
     "name": "stderr",
     "output_type": "stream",
     "text": [
      "\u001b[36m──\u001b[39m \u001b[1mColumn specification\u001b[22m \u001b[36m────────────────────────────────────────────────────────\u001b[39m\n",
      "\u001b[1mDelimiter:\u001b[22m \",\"\n",
      "\u001b[32mdbl\u001b[39m (2): id, Depression\n"
     ]
    },
    {
     "name": "stderr",
     "output_type": "stream",
     "text": [
      "\n",
      "\u001b[36mℹ\u001b[39m Use `spec()` to retrieve the full column specification for this data.\n",
      "\u001b[36mℹ\u001b[39m Specify the column types or set `show_col_types = FALSE` to quiet this message.\n"
     ]
    }
   ],
   "source": [
    "original <- read_csv(\"/kaggle/input/depression-surveydataset-for-analysis/final_depression_dataset_1.csv\")\n",
    "train <- read_csv(\"/kaggle/input/playground-series-s4e11/train.csv\")\n",
    "test  <- read_csv(\"/kaggle/input/playground-series-s4e11/test.csv\")\n",
    "\n",
    "test_id <- test$id\n",
    "\n",
    "sample_submission <- read_csv(\"/kaggle/input/playground-series-s4e11/sample_submission.csv\")"
   ]
  },
  {
   "cell_type": "code",
   "execution_count": 3,
   "id": "c50b6907",
   "metadata": {
    "execution": {
     "iopub.execute_input": "2024-11-02T16:38:56.272886Z",
     "iopub.status.busy": "2024-11-02T16:38:56.271152Z",
     "iopub.status.idle": "2024-11-02T16:38:56.333880Z",
     "shell.execute_reply": "2024-11-02T16:38:56.331197Z"
    },
    "papermill": {
     "duration": 0.074349,
     "end_time": "2024-11-02T16:38:56.337475",
     "exception": false,
     "start_time": "2024-11-02T16:38:56.263126",
     "status": "completed"
    },
    "tags": []
   },
   "outputs": [
    {
     "data": {
      "text/html": [
       "<table class=\"dataframe\">\n",
       "<caption>A tibble: 5 × 19</caption>\n",
       "<thead>\n",
       "\t<tr><th scope=col>Name</th><th scope=col>Gender</th><th scope=col>Age</th><th scope=col>City</th><th scope=col>Working Professional or Student</th><th scope=col>Profession</th><th scope=col>Academic Pressure</th><th scope=col>Work Pressure</th><th scope=col>CGPA</th><th scope=col>Study Satisfaction</th><th scope=col>Job Satisfaction</th><th scope=col>Sleep Duration</th><th scope=col>Dietary Habits</th><th scope=col>Degree</th><th scope=col>Have you ever had suicidal thoughts ?</th><th scope=col>Work/Study Hours</th><th scope=col>Financial Stress</th><th scope=col>Family History of Mental Illness</th><th scope=col>Depression</th></tr>\n",
       "\t<tr><th scope=col>&lt;chr&gt;</th><th scope=col>&lt;chr&gt;</th><th scope=col>&lt;dbl&gt;</th><th scope=col>&lt;chr&gt;</th><th scope=col>&lt;chr&gt;</th><th scope=col>&lt;chr&gt;</th><th scope=col>&lt;dbl&gt;</th><th scope=col>&lt;dbl&gt;</th><th scope=col>&lt;dbl&gt;</th><th scope=col>&lt;dbl&gt;</th><th scope=col>&lt;dbl&gt;</th><th scope=col>&lt;chr&gt;</th><th scope=col>&lt;chr&gt;</th><th scope=col>&lt;chr&gt;</th><th scope=col>&lt;chr&gt;</th><th scope=col>&lt;dbl&gt;</th><th scope=col>&lt;dbl&gt;</th><th scope=col>&lt;chr&gt;</th><th scope=col>&lt;chr&gt;</th></tr>\n",
       "</thead>\n",
       "<tbody>\n",
       "\t<tr><td>Pooja  </td><td>Female</td><td>37</td><td>Ghaziabad</td><td>Working Professional</td><td>Teacher          </td><td>NA</td><td>2</td><td>NA</td><td>NA</td><td>4</td><td>7-8 hours</td><td>Moderate </td><td>MA   </td><td>No </td><td>6</td><td>2</td><td>No </td><td>No</td></tr>\n",
       "\t<tr><td>Reyansh</td><td>Male  </td><td>60</td><td>Kalyan   </td><td>Working Professional</td><td>Financial Analyst</td><td>NA</td><td>4</td><td>NA</td><td>NA</td><td>3</td><td>5-6 hours</td><td>Unhealthy</td><td>B.Com</td><td>Yes</td><td>0</td><td>4</td><td>Yes</td><td>No</td></tr>\n",
       "\t<tr><td>Manvi  </td><td>Female</td><td>42</td><td>Bhopal   </td><td>Working Professional</td><td>Teacher          </td><td>NA</td><td>2</td><td>NA</td><td>NA</td><td>3</td><td>5-6 hours</td><td>Moderate </td><td>M.Com</td><td>No </td><td>0</td><td>2</td><td>No </td><td>No</td></tr>\n",
       "\t<tr><td>Isha   </td><td>Female</td><td>44</td><td>Thane    </td><td>Working Professional</td><td>Teacher          </td><td>NA</td><td>3</td><td>NA</td><td>NA</td><td>5</td><td>7-8 hours</td><td>Healthy  </td><td>MD   </td><td>Yes</td><td>1</td><td>2</td><td>Yes</td><td>No</td></tr>\n",
       "\t<tr><td>Aarav  </td><td>Male  </td><td>48</td><td>Indore   </td><td>Working Professional</td><td>UX/UI Designer   </td><td>NA</td><td>4</td><td>NA</td><td>NA</td><td>3</td><td>7-8 hours</td><td>Moderate </td><td>BE   </td><td>Yes</td><td>6</td><td>5</td><td>Yes</td><td>No</td></tr>\n",
       "</tbody>\n",
       "</table>\n"
      ],
      "text/latex": [
       "A tibble: 5 × 19\n",
       "\\begin{tabular}{lllllllllllllllllll}\n",
       " Name & Gender & Age & City & Working Professional or Student & Profession & Academic Pressure & Work Pressure & CGPA & Study Satisfaction & Job Satisfaction & Sleep Duration & Dietary Habits & Degree & Have you ever had suicidal thoughts ? & Work/Study Hours & Financial Stress & Family History of Mental Illness & Depression\\\\\n",
       " <chr> & <chr> & <dbl> & <chr> & <chr> & <chr> & <dbl> & <dbl> & <dbl> & <dbl> & <dbl> & <chr> & <chr> & <chr> & <chr> & <dbl> & <dbl> & <chr> & <chr>\\\\\n",
       "\\hline\n",
       "\t Pooja   & Female & 37 & Ghaziabad & Working Professional & Teacher           & NA & 2 & NA & NA & 4 & 7-8 hours & Moderate  & MA    & No  & 6 & 2 & No  & No\\\\\n",
       "\t Reyansh & Male   & 60 & Kalyan    & Working Professional & Financial Analyst & NA & 4 & NA & NA & 3 & 5-6 hours & Unhealthy & B.Com & Yes & 0 & 4 & Yes & No\\\\\n",
       "\t Manvi   & Female & 42 & Bhopal    & Working Professional & Teacher           & NA & 2 & NA & NA & 3 & 5-6 hours & Moderate  & M.Com & No  & 0 & 2 & No  & No\\\\\n",
       "\t Isha    & Female & 44 & Thane     & Working Professional & Teacher           & NA & 3 & NA & NA & 5 & 7-8 hours & Healthy   & MD    & Yes & 1 & 2 & Yes & No\\\\\n",
       "\t Aarav   & Male   & 48 & Indore    & Working Professional & UX/UI Designer    & NA & 4 & NA & NA & 3 & 7-8 hours & Moderate  & BE    & Yes & 6 & 5 & Yes & No\\\\\n",
       "\\end{tabular}\n"
      ],
      "text/markdown": [
       "\n",
       "A tibble: 5 × 19\n",
       "\n",
       "| Name &lt;chr&gt; | Gender &lt;chr&gt; | Age &lt;dbl&gt; | City &lt;chr&gt; | Working Professional or Student &lt;chr&gt; | Profession &lt;chr&gt; | Academic Pressure &lt;dbl&gt; | Work Pressure &lt;dbl&gt; | CGPA &lt;dbl&gt; | Study Satisfaction &lt;dbl&gt; | Job Satisfaction &lt;dbl&gt; | Sleep Duration &lt;chr&gt; | Dietary Habits &lt;chr&gt; | Degree &lt;chr&gt; | Have you ever had suicidal thoughts ? &lt;chr&gt; | Work/Study Hours &lt;dbl&gt; | Financial Stress &lt;dbl&gt; | Family History of Mental Illness &lt;chr&gt; | Depression &lt;chr&gt; |\n",
       "|---|---|---|---|---|---|---|---|---|---|---|---|---|---|---|---|---|---|---|\n",
       "| Pooja   | Female | 37 | Ghaziabad | Working Professional | Teacher           | NA | 2 | NA | NA | 4 | 7-8 hours | Moderate  | MA    | No  | 6 | 2 | No  | No |\n",
       "| Reyansh | Male   | 60 | Kalyan    | Working Professional | Financial Analyst | NA | 4 | NA | NA | 3 | 5-6 hours | Unhealthy | B.Com | Yes | 0 | 4 | Yes | No |\n",
       "| Manvi   | Female | 42 | Bhopal    | Working Professional | Teacher           | NA | 2 | NA | NA | 3 | 5-6 hours | Moderate  | M.Com | No  | 0 | 2 | No  | No |\n",
       "| Isha    | Female | 44 | Thane     | Working Professional | Teacher           | NA | 3 | NA | NA | 5 | 7-8 hours | Healthy   | MD    | Yes | 1 | 2 | Yes | No |\n",
       "| Aarav   | Male   | 48 | Indore    | Working Professional | UX/UI Designer    | NA | 4 | NA | NA | 3 | 7-8 hours | Moderate  | BE    | Yes | 6 | 5 | Yes | No |\n",
       "\n"
      ],
      "text/plain": [
       "  Name    Gender Age City      Working Professional or Student\n",
       "1 Pooja   Female 37  Ghaziabad Working Professional           \n",
       "2 Reyansh Male   60  Kalyan    Working Professional           \n",
       "3 Manvi   Female 42  Bhopal    Working Professional           \n",
       "4 Isha    Female 44  Thane     Working Professional           \n",
       "5 Aarav   Male   48  Indore    Working Professional           \n",
       "  Profession        Academic Pressure Work Pressure CGPA Study Satisfaction\n",
       "1 Teacher           NA                2             NA   NA                \n",
       "2 Financial Analyst NA                4             NA   NA                \n",
       "3 Teacher           NA                2             NA   NA                \n",
       "4 Teacher           NA                3             NA   NA                \n",
       "5 UX/UI Designer    NA                4             NA   NA                \n",
       "  Job Satisfaction Sleep Duration Dietary Habits Degree\n",
       "1 4                7-8 hours      Moderate       MA    \n",
       "2 3                5-6 hours      Unhealthy      B.Com \n",
       "3 3                5-6 hours      Moderate       M.Com \n",
       "4 5                7-8 hours      Healthy        MD    \n",
       "5 3                7-8 hours      Moderate       BE    \n",
       "  Have you ever had suicidal thoughts ? Work/Study Hours Financial Stress\n",
       "1 No                                    6                2               \n",
       "2 Yes                                   0                4               \n",
       "3 No                                    0                2               \n",
       "4 Yes                                   1                2               \n",
       "5 Yes                                   6                5               \n",
       "  Family History of Mental Illness Depression\n",
       "1 No                               No        \n",
       "2 Yes                              No        \n",
       "3 No                               No        \n",
       "4 Yes                              No        \n",
       "5 Yes                              No        "
      ]
     },
     "metadata": {},
     "output_type": "display_data"
    }
   ],
   "source": [
    "head(original, 5)"
   ]
  },
  {
   "cell_type": "code",
   "execution_count": 4,
   "id": "1ef90efd",
   "metadata": {
    "execution": {
     "iopub.execute_input": "2024-11-02T16:38:56.354690Z",
     "iopub.status.busy": "2024-11-02T16:38:56.352934Z",
     "iopub.status.idle": "2024-11-02T16:38:56.418273Z",
     "shell.execute_reply": "2024-11-02T16:38:56.415529Z"
    },
    "papermill": {
     "duration": 0.076608,
     "end_time": "2024-11-02T16:38:56.421567",
     "exception": false,
     "start_time": "2024-11-02T16:38:56.344959",
     "status": "completed"
    },
    "tags": []
   },
   "outputs": [
    {
     "data": {
      "text/html": [
       "<table class=\"dataframe\">\n",
       "<caption>A tibble: 5 × 20</caption>\n",
       "<thead>\n",
       "\t<tr><th scope=col>id</th><th scope=col>Name</th><th scope=col>Gender</th><th scope=col>Age</th><th scope=col>City</th><th scope=col>Working Professional or Student</th><th scope=col>Profession</th><th scope=col>Academic Pressure</th><th scope=col>Work Pressure</th><th scope=col>CGPA</th><th scope=col>Study Satisfaction</th><th scope=col>Job Satisfaction</th><th scope=col>Sleep Duration</th><th scope=col>Dietary Habits</th><th scope=col>Degree</th><th scope=col>Have you ever had suicidal thoughts ?</th><th scope=col>Work/Study Hours</th><th scope=col>Financial Stress</th><th scope=col>Family History of Mental Illness</th><th scope=col>Depression</th></tr>\n",
       "\t<tr><th scope=col>&lt;dbl&gt;</th><th scope=col>&lt;chr&gt;</th><th scope=col>&lt;chr&gt;</th><th scope=col>&lt;dbl&gt;</th><th scope=col>&lt;chr&gt;</th><th scope=col>&lt;chr&gt;</th><th scope=col>&lt;chr&gt;</th><th scope=col>&lt;dbl&gt;</th><th scope=col>&lt;dbl&gt;</th><th scope=col>&lt;dbl&gt;</th><th scope=col>&lt;dbl&gt;</th><th scope=col>&lt;dbl&gt;</th><th scope=col>&lt;chr&gt;</th><th scope=col>&lt;chr&gt;</th><th scope=col>&lt;chr&gt;</th><th scope=col>&lt;chr&gt;</th><th scope=col>&lt;dbl&gt;</th><th scope=col>&lt;dbl&gt;</th><th scope=col>&lt;chr&gt;</th><th scope=col>&lt;dbl&gt;</th></tr>\n",
       "</thead>\n",
       "<tbody>\n",
       "\t<tr><td>0</td><td>Aaradhya</td><td>Female</td><td>49</td><td>Ludhiana     </td><td>Working Professional</td><td>Chef            </td><td>NA</td><td> 5</td><td>  NA</td><td>NA</td><td> 2</td><td>More than 8 hours</td><td>Healthy  </td><td>BHM    </td><td>No </td><td> 1</td><td>2</td><td>No </td><td>0</td></tr>\n",
       "\t<tr><td>1</td><td>Vivan   </td><td>Male  </td><td>26</td><td>Varanasi     </td><td>Working Professional</td><td>Teacher         </td><td>NA</td><td> 4</td><td>  NA</td><td>NA</td><td> 3</td><td>Less than 5 hours</td><td>Unhealthy</td><td>LLB    </td><td>Yes</td><td> 7</td><td>3</td><td>No </td><td>1</td></tr>\n",
       "\t<tr><td>2</td><td>Yuvraj  </td><td>Male  </td><td>33</td><td>Visakhapatnam</td><td>Student             </td><td>NA              </td><td> 5</td><td>NA</td><td>8.97</td><td> 2</td><td>NA</td><td>5-6 hours        </td><td>Healthy  </td><td>B.Pharm</td><td>Yes</td><td> 3</td><td>1</td><td>No </td><td>1</td></tr>\n",
       "\t<tr><td>3</td><td>Yuvraj  </td><td>Male  </td><td>22</td><td>Mumbai       </td><td>Working Professional</td><td>Teacher         </td><td>NA</td><td> 5</td><td>  NA</td><td>NA</td><td> 1</td><td>Less than 5 hours</td><td>Moderate </td><td>BBA    </td><td>Yes</td><td>10</td><td>1</td><td>Yes</td><td>1</td></tr>\n",
       "\t<tr><td>4</td><td>Rhea    </td><td>Female</td><td>30</td><td>Kanpur       </td><td>Working Professional</td><td>Business Analyst</td><td>NA</td><td> 1</td><td>  NA</td><td>NA</td><td> 1</td><td>5-6 hours        </td><td>Unhealthy</td><td>BBA    </td><td>Yes</td><td> 9</td><td>4</td><td>Yes</td><td>0</td></tr>\n",
       "</tbody>\n",
       "</table>\n"
      ],
      "text/latex": [
       "A tibble: 5 × 20\n",
       "\\begin{tabular}{llllllllllllllllllll}\n",
       " id & Name & Gender & Age & City & Working Professional or Student & Profession & Academic Pressure & Work Pressure & CGPA & Study Satisfaction & Job Satisfaction & Sleep Duration & Dietary Habits & Degree & Have you ever had suicidal thoughts ? & Work/Study Hours & Financial Stress & Family History of Mental Illness & Depression\\\\\n",
       " <dbl> & <chr> & <chr> & <dbl> & <chr> & <chr> & <chr> & <dbl> & <dbl> & <dbl> & <dbl> & <dbl> & <chr> & <chr> & <chr> & <chr> & <dbl> & <dbl> & <chr> & <dbl>\\\\\n",
       "\\hline\n",
       "\t 0 & Aaradhya & Female & 49 & Ludhiana      & Working Professional & Chef             & NA &  5 &   NA & NA &  2 & More than 8 hours & Healthy   & BHM     & No  &  1 & 2 & No  & 0\\\\\n",
       "\t 1 & Vivan    & Male   & 26 & Varanasi      & Working Professional & Teacher          & NA &  4 &   NA & NA &  3 & Less than 5 hours & Unhealthy & LLB     & Yes &  7 & 3 & No  & 1\\\\\n",
       "\t 2 & Yuvraj   & Male   & 33 & Visakhapatnam & Student              & NA               &  5 & NA & 8.97 &  2 & NA & 5-6 hours         & Healthy   & B.Pharm & Yes &  3 & 1 & No  & 1\\\\\n",
       "\t 3 & Yuvraj   & Male   & 22 & Mumbai        & Working Professional & Teacher          & NA &  5 &   NA & NA &  1 & Less than 5 hours & Moderate  & BBA     & Yes & 10 & 1 & Yes & 1\\\\\n",
       "\t 4 & Rhea     & Female & 30 & Kanpur        & Working Professional & Business Analyst & NA &  1 &   NA & NA &  1 & 5-6 hours         & Unhealthy & BBA     & Yes &  9 & 4 & Yes & 0\\\\\n",
       "\\end{tabular}\n"
      ],
      "text/markdown": [
       "\n",
       "A tibble: 5 × 20\n",
       "\n",
       "| id &lt;dbl&gt; | Name &lt;chr&gt; | Gender &lt;chr&gt; | Age &lt;dbl&gt; | City &lt;chr&gt; | Working Professional or Student &lt;chr&gt; | Profession &lt;chr&gt; | Academic Pressure &lt;dbl&gt; | Work Pressure &lt;dbl&gt; | CGPA &lt;dbl&gt; | Study Satisfaction &lt;dbl&gt; | Job Satisfaction &lt;dbl&gt; | Sleep Duration &lt;chr&gt; | Dietary Habits &lt;chr&gt; | Degree &lt;chr&gt; | Have you ever had suicidal thoughts ? &lt;chr&gt; | Work/Study Hours &lt;dbl&gt; | Financial Stress &lt;dbl&gt; | Family History of Mental Illness &lt;chr&gt; | Depression &lt;dbl&gt; |\n",
       "|---|---|---|---|---|---|---|---|---|---|---|---|---|---|---|---|---|---|---|---|\n",
       "| 0 | Aaradhya | Female | 49 | Ludhiana      | Working Professional | Chef             | NA |  5 |   NA | NA |  2 | More than 8 hours | Healthy   | BHM     | No  |  1 | 2 | No  | 0 |\n",
       "| 1 | Vivan    | Male   | 26 | Varanasi      | Working Professional | Teacher          | NA |  4 |   NA | NA |  3 | Less than 5 hours | Unhealthy | LLB     | Yes |  7 | 3 | No  | 1 |\n",
       "| 2 | Yuvraj   | Male   | 33 | Visakhapatnam | Student              | NA               |  5 | NA | 8.97 |  2 | NA | 5-6 hours         | Healthy   | B.Pharm | Yes |  3 | 1 | No  | 1 |\n",
       "| 3 | Yuvraj   | Male   | 22 | Mumbai        | Working Professional | Teacher          | NA |  5 |   NA | NA |  1 | Less than 5 hours | Moderate  | BBA     | Yes | 10 | 1 | Yes | 1 |\n",
       "| 4 | Rhea     | Female | 30 | Kanpur        | Working Professional | Business Analyst | NA |  1 |   NA | NA |  1 | 5-6 hours         | Unhealthy | BBA     | Yes |  9 | 4 | Yes | 0 |\n",
       "\n"
      ],
      "text/plain": [
       "  id Name     Gender Age City          Working Professional or Student\n",
       "1 0  Aaradhya Female 49  Ludhiana      Working Professional           \n",
       "2 1  Vivan    Male   26  Varanasi      Working Professional           \n",
       "3 2  Yuvraj   Male   33  Visakhapatnam Student                        \n",
       "4 3  Yuvraj   Male   22  Mumbai        Working Professional           \n",
       "5 4  Rhea     Female 30  Kanpur        Working Professional           \n",
       "  Profession       Academic Pressure Work Pressure CGPA Study Satisfaction\n",
       "1 Chef             NA                 5              NA NA                \n",
       "2 Teacher          NA                 4              NA NA                \n",
       "3 NA                5                NA            8.97  2                \n",
       "4 Teacher          NA                 5              NA NA                \n",
       "5 Business Analyst NA                 1              NA NA                \n",
       "  Job Satisfaction Sleep Duration    Dietary Habits Degree \n",
       "1  2               More than 8 hours Healthy        BHM    \n",
       "2  3               Less than 5 hours Unhealthy      LLB    \n",
       "3 NA               5-6 hours         Healthy        B.Pharm\n",
       "4  1               Less than 5 hours Moderate       BBA    \n",
       "5  1               5-6 hours         Unhealthy      BBA    \n",
       "  Have you ever had suicidal thoughts ? Work/Study Hours Financial Stress\n",
       "1 No                                     1               2               \n",
       "2 Yes                                    7               3               \n",
       "3 Yes                                    3               1               \n",
       "4 Yes                                   10               1               \n",
       "5 Yes                                    9               4               \n",
       "  Family History of Mental Illness Depression\n",
       "1 No                               0         \n",
       "2 No                               1         \n",
       "3 No                               1         \n",
       "4 Yes                              1         \n",
       "5 Yes                              0         "
      ]
     },
     "metadata": {},
     "output_type": "display_data"
    }
   ],
   "source": [
    "head(train, 5)"
   ]
  },
  {
   "cell_type": "code",
   "execution_count": 5,
   "id": "6c992d75",
   "metadata": {
    "execution": {
     "iopub.execute_input": "2024-11-02T16:38:56.437617Z",
     "iopub.status.busy": "2024-11-02T16:38:56.435842Z",
     "iopub.status.idle": "2024-11-02T16:38:56.490755Z",
     "shell.execute_reply": "2024-11-02T16:38:56.487828Z"
    },
    "papermill": {
     "duration": 0.066485,
     "end_time": "2024-11-02T16:38:56.494071",
     "exception": false,
     "start_time": "2024-11-02T16:38:56.427586",
     "status": "completed"
    },
    "tags": []
   },
   "outputs": [
    {
     "data": {
      "text/html": [
       "<table class=\"dataframe\">\n",
       "<caption>A tibble: 5 × 19</caption>\n",
       "<thead>\n",
       "\t<tr><th scope=col>id</th><th scope=col>Name</th><th scope=col>Gender</th><th scope=col>Age</th><th scope=col>City</th><th scope=col>Working Professional or Student</th><th scope=col>Profession</th><th scope=col>Academic Pressure</th><th scope=col>Work Pressure</th><th scope=col>CGPA</th><th scope=col>Study Satisfaction</th><th scope=col>Job Satisfaction</th><th scope=col>Sleep Duration</th><th scope=col>Dietary Habits</th><th scope=col>Degree</th><th scope=col>Have you ever had suicidal thoughts ?</th><th scope=col>Work/Study Hours</th><th scope=col>Financial Stress</th><th scope=col>Family History of Mental Illness</th></tr>\n",
       "\t<tr><th scope=col>&lt;dbl&gt;</th><th scope=col>&lt;chr&gt;</th><th scope=col>&lt;chr&gt;</th><th scope=col>&lt;dbl&gt;</th><th scope=col>&lt;chr&gt;</th><th scope=col>&lt;chr&gt;</th><th scope=col>&lt;chr&gt;</th><th scope=col>&lt;dbl&gt;</th><th scope=col>&lt;dbl&gt;</th><th scope=col>&lt;dbl&gt;</th><th scope=col>&lt;dbl&gt;</th><th scope=col>&lt;dbl&gt;</th><th scope=col>&lt;chr&gt;</th><th scope=col>&lt;chr&gt;</th><th scope=col>&lt;chr&gt;</th><th scope=col>&lt;chr&gt;</th><th scope=col>&lt;dbl&gt;</th><th scope=col>&lt;dbl&gt;</th><th scope=col>&lt;chr&gt;</th></tr>\n",
       "</thead>\n",
       "<tbody>\n",
       "\t<tr><td>140700</td><td>Shivam </td><td>Male  </td><td>53</td><td>Visakhapatnam</td><td>Working Professional</td><td>Judge                 </td><td>NA</td><td> 2</td><td>  NA</td><td>NA</td><td> 5</td><td>Less than 5 hours</td><td>Moderate</td><td>LLB   </td><td>No </td><td> 9</td><td>3</td><td>Yes</td></tr>\n",
       "\t<tr><td>140701</td><td>Sanya  </td><td>Female</td><td>58</td><td>Kolkata      </td><td>Working Professional</td><td>Educational Consultant</td><td>NA</td><td> 2</td><td>  NA</td><td>NA</td><td> 4</td><td>Less than 5 hours</td><td>Moderate</td><td>B.Ed  </td><td>No </td><td> 6</td><td>4</td><td>No </td></tr>\n",
       "\t<tr><td>140702</td><td>Yash   </td><td>Male  </td><td>53</td><td>Jaipur       </td><td>Working Professional</td><td>Teacher               </td><td>NA</td><td> 4</td><td>  NA</td><td>NA</td><td> 1</td><td>7-8 hours        </td><td>Moderate</td><td>B.Arch</td><td>Yes</td><td>12</td><td>4</td><td>No </td></tr>\n",
       "\t<tr><td>140703</td><td>Nalini </td><td>Female</td><td>23</td><td>Rajkot       </td><td>Student             </td><td>NA                    </td><td> 5</td><td>NA</td><td>6.84</td><td> 1</td><td>NA</td><td>More than 8 hours</td><td>Moderate</td><td>BSc   </td><td>Yes</td><td>10</td><td>4</td><td>No </td></tr>\n",
       "\t<tr><td>140704</td><td>Shaurya</td><td>Male  </td><td>47</td><td>Kalyan       </td><td>Working Professional</td><td>Teacher               </td><td>NA</td><td> 5</td><td>  NA</td><td>NA</td><td> 5</td><td>7-8 hours        </td><td>Moderate</td><td>BCA   </td><td>Yes</td><td> 3</td><td>4</td><td>No </td></tr>\n",
       "</tbody>\n",
       "</table>\n"
      ],
      "text/latex": [
       "A tibble: 5 × 19\n",
       "\\begin{tabular}{lllllllllllllllllll}\n",
       " id & Name & Gender & Age & City & Working Professional or Student & Profession & Academic Pressure & Work Pressure & CGPA & Study Satisfaction & Job Satisfaction & Sleep Duration & Dietary Habits & Degree & Have you ever had suicidal thoughts ? & Work/Study Hours & Financial Stress & Family History of Mental Illness\\\\\n",
       " <dbl> & <chr> & <chr> & <dbl> & <chr> & <chr> & <chr> & <dbl> & <dbl> & <dbl> & <dbl> & <dbl> & <chr> & <chr> & <chr> & <chr> & <dbl> & <dbl> & <chr>\\\\\n",
       "\\hline\n",
       "\t 140700 & Shivam  & Male   & 53 & Visakhapatnam & Working Professional & Judge                  & NA &  2 &   NA & NA &  5 & Less than 5 hours & Moderate & LLB    & No  &  9 & 3 & Yes\\\\\n",
       "\t 140701 & Sanya   & Female & 58 & Kolkata       & Working Professional & Educational Consultant & NA &  2 &   NA & NA &  4 & Less than 5 hours & Moderate & B.Ed   & No  &  6 & 4 & No \\\\\n",
       "\t 140702 & Yash    & Male   & 53 & Jaipur        & Working Professional & Teacher                & NA &  4 &   NA & NA &  1 & 7-8 hours         & Moderate & B.Arch & Yes & 12 & 4 & No \\\\\n",
       "\t 140703 & Nalini  & Female & 23 & Rajkot        & Student              & NA                     &  5 & NA & 6.84 &  1 & NA & More than 8 hours & Moderate & BSc    & Yes & 10 & 4 & No \\\\\n",
       "\t 140704 & Shaurya & Male   & 47 & Kalyan        & Working Professional & Teacher                & NA &  5 &   NA & NA &  5 & 7-8 hours         & Moderate & BCA    & Yes &  3 & 4 & No \\\\\n",
       "\\end{tabular}\n"
      ],
      "text/markdown": [
       "\n",
       "A tibble: 5 × 19\n",
       "\n",
       "| id &lt;dbl&gt; | Name &lt;chr&gt; | Gender &lt;chr&gt; | Age &lt;dbl&gt; | City &lt;chr&gt; | Working Professional or Student &lt;chr&gt; | Profession &lt;chr&gt; | Academic Pressure &lt;dbl&gt; | Work Pressure &lt;dbl&gt; | CGPA &lt;dbl&gt; | Study Satisfaction &lt;dbl&gt; | Job Satisfaction &lt;dbl&gt; | Sleep Duration &lt;chr&gt; | Dietary Habits &lt;chr&gt; | Degree &lt;chr&gt; | Have you ever had suicidal thoughts ? &lt;chr&gt; | Work/Study Hours &lt;dbl&gt; | Financial Stress &lt;dbl&gt; | Family History of Mental Illness &lt;chr&gt; |\n",
       "|---|---|---|---|---|---|---|---|---|---|---|---|---|---|---|---|---|---|---|\n",
       "| 140700 | Shivam  | Male   | 53 | Visakhapatnam | Working Professional | Judge                  | NA |  2 |   NA | NA |  5 | Less than 5 hours | Moderate | LLB    | No  |  9 | 3 | Yes |\n",
       "| 140701 | Sanya   | Female | 58 | Kolkata       | Working Professional | Educational Consultant | NA |  2 |   NA | NA |  4 | Less than 5 hours | Moderate | B.Ed   | No  |  6 | 4 | No  |\n",
       "| 140702 | Yash    | Male   | 53 | Jaipur        | Working Professional | Teacher                | NA |  4 |   NA | NA |  1 | 7-8 hours         | Moderate | B.Arch | Yes | 12 | 4 | No  |\n",
       "| 140703 | Nalini  | Female | 23 | Rajkot        | Student              | NA                     |  5 | NA | 6.84 |  1 | NA | More than 8 hours | Moderate | BSc    | Yes | 10 | 4 | No  |\n",
       "| 140704 | Shaurya | Male   | 47 | Kalyan        | Working Professional | Teacher                | NA |  5 |   NA | NA |  5 | 7-8 hours         | Moderate | BCA    | Yes |  3 | 4 | No  |\n",
       "\n"
      ],
      "text/plain": [
       "  id     Name    Gender Age City          Working Professional or Student\n",
       "1 140700 Shivam  Male   53  Visakhapatnam Working Professional           \n",
       "2 140701 Sanya   Female 58  Kolkata       Working Professional           \n",
       "3 140702 Yash    Male   53  Jaipur        Working Professional           \n",
       "4 140703 Nalini  Female 23  Rajkot        Student                        \n",
       "5 140704 Shaurya Male   47  Kalyan        Working Professional           \n",
       "  Profession             Academic Pressure Work Pressure CGPA\n",
       "1 Judge                  NA                 2              NA\n",
       "2 Educational Consultant NA                 2              NA\n",
       "3 Teacher                NA                 4              NA\n",
       "4 NA                      5                NA            6.84\n",
       "5 Teacher                NA                 5              NA\n",
       "  Study Satisfaction Job Satisfaction Sleep Duration    Dietary Habits Degree\n",
       "1 NA                  5               Less than 5 hours Moderate       LLB   \n",
       "2 NA                  4               Less than 5 hours Moderate       B.Ed  \n",
       "3 NA                  1               7-8 hours         Moderate       B.Arch\n",
       "4  1                 NA               More than 8 hours Moderate       BSc   \n",
       "5 NA                  5               7-8 hours         Moderate       BCA   \n",
       "  Have you ever had suicidal thoughts ? Work/Study Hours Financial Stress\n",
       "1 No                                     9               3               \n",
       "2 No                                     6               4               \n",
       "3 Yes                                   12               4               \n",
       "4 Yes                                   10               4               \n",
       "5 Yes                                    3               4               \n",
       "  Family History of Mental Illness\n",
       "1 Yes                             \n",
       "2 No                              \n",
       "3 No                              \n",
       "4 No                              \n",
       "5 No                              "
      ]
     },
     "metadata": {},
     "output_type": "display_data"
    }
   ],
   "source": [
    "head(test, 5)"
   ]
  },
  {
   "cell_type": "code",
   "execution_count": 6,
   "id": "84f6fcf2",
   "metadata": {
    "execution": {
     "iopub.execute_input": "2024-11-02T16:38:56.510553Z",
     "iopub.status.busy": "2024-11-02T16:38:56.508840Z",
     "iopub.status.idle": "2024-11-02T16:38:57.215283Z",
     "shell.execute_reply": "2024-11-02T16:38:57.213343Z"
    },
    "papermill": {
     "duration": 0.71842,
     "end_time": "2024-11-02T16:38:57.218839",
     "exception": false,
     "start_time": "2024-11-02T16:38:56.500419",
     "status": "completed"
    },
    "tags": []
   },
   "outputs": [],
   "source": [
    "original <- \n",
    "    original %>% \n",
    "    mutate(\"data_indicator\" = \"original\") \n",
    "\n",
    "train <- \n",
    "    train %>% \n",
    "    mutate(\"data_indicator\" = \"train\") %>%\n",
    "    select(!id)\n",
    "\n",
    "test <- \n",
    "    test %>% \n",
    "    mutate(\"data_indicator\" = \"test\",\n",
    "           \"Depression\" = -999\n",
    "          ) %>%\n",
    "    select(!id)\n",
    "\n",
    "## Merges original, train, and test dataframes together\n",
    "full <- rbind(original, train, test)"
   ]
  },
  {
   "cell_type": "code",
   "execution_count": 7,
   "id": "705ba776",
   "metadata": {
    "execution": {
     "iopub.execute_input": "2024-11-02T16:38:57.236646Z",
     "iopub.status.busy": "2024-11-02T16:38:57.234490Z",
     "iopub.status.idle": "2024-11-02T16:38:57.332998Z",
     "shell.execute_reply": "2024-11-02T16:38:57.330368Z"
    },
    "papermill": {
     "duration": 0.111149,
     "end_time": "2024-11-02T16:38:57.336641",
     "exception": false,
     "start_time": "2024-11-02T16:38:57.225492",
     "status": "completed"
    },
    "tags": []
   },
   "outputs": [
    {
     "data": {
      "text/html": [
       "<table class=\"dataframe\">\n",
       "<caption>A tibble: 3 × 20</caption>\n",
       "<thead>\n",
       "\t<tr><th scope=col>Name</th><th scope=col>Gender</th><th scope=col>Age</th><th scope=col>City</th><th scope=col>Working Professional or Student</th><th scope=col>Profession</th><th scope=col>Academic Pressure</th><th scope=col>Work Pressure</th><th scope=col>CGPA</th><th scope=col>Study Satisfaction</th><th scope=col>Job Satisfaction</th><th scope=col>Sleep Duration</th><th scope=col>Dietary Habits</th><th scope=col>Degree</th><th scope=col>Have you ever had suicidal thoughts ?</th><th scope=col>Work/Study Hours</th><th scope=col>Financial Stress</th><th scope=col>Family History of Mental Illness</th><th scope=col>Depression</th><th scope=col>data_indicator</th></tr>\n",
       "\t<tr><th scope=col>&lt;chr&gt;</th><th scope=col>&lt;chr&gt;</th><th scope=col>&lt;dbl&gt;</th><th scope=col>&lt;chr&gt;</th><th scope=col>&lt;chr&gt;</th><th scope=col>&lt;chr&gt;</th><th scope=col>&lt;dbl&gt;</th><th scope=col>&lt;dbl&gt;</th><th scope=col>&lt;dbl&gt;</th><th scope=col>&lt;dbl&gt;</th><th scope=col>&lt;dbl&gt;</th><th scope=col>&lt;chr&gt;</th><th scope=col>&lt;chr&gt;</th><th scope=col>&lt;chr&gt;</th><th scope=col>&lt;chr&gt;</th><th scope=col>&lt;dbl&gt;</th><th scope=col>&lt;dbl&gt;</th><th scope=col>&lt;chr&gt;</th><th scope=col>&lt;chr&gt;</th><th scope=col>&lt;chr&gt;</th></tr>\n",
       "</thead>\n",
       "<tbody>\n",
       "\t<tr><td>Pooja  </td><td>Female</td><td>37</td><td>Ghaziabad</td><td>Working Professional</td><td>Teacher          </td><td>NA</td><td>2</td><td>NA</td><td>NA</td><td>4</td><td>7-8 hours</td><td>Moderate </td><td>MA   </td><td>No </td><td>6</td><td>2</td><td>No </td><td>No</td><td>original</td></tr>\n",
       "\t<tr><td>Reyansh</td><td>Male  </td><td>60</td><td>Kalyan   </td><td>Working Professional</td><td>Financial Analyst</td><td>NA</td><td>4</td><td>NA</td><td>NA</td><td>3</td><td>5-6 hours</td><td>Unhealthy</td><td>B.Com</td><td>Yes</td><td>0</td><td>4</td><td>Yes</td><td>No</td><td>original</td></tr>\n",
       "\t<tr><td>Manvi  </td><td>Female</td><td>42</td><td>Bhopal   </td><td>Working Professional</td><td>Teacher          </td><td>NA</td><td>2</td><td>NA</td><td>NA</td><td>3</td><td>5-6 hours</td><td>Moderate </td><td>M.Com</td><td>No </td><td>0</td><td>2</td><td>No </td><td>No</td><td>original</td></tr>\n",
       "</tbody>\n",
       "</table>\n"
      ],
      "text/latex": [
       "A tibble: 3 × 20\n",
       "\\begin{tabular}{llllllllllllllllllll}\n",
       " Name & Gender & Age & City & Working Professional or Student & Profession & Academic Pressure & Work Pressure & CGPA & Study Satisfaction & Job Satisfaction & Sleep Duration & Dietary Habits & Degree & Have you ever had suicidal thoughts ? & Work/Study Hours & Financial Stress & Family History of Mental Illness & Depression & data\\_indicator\\\\\n",
       " <chr> & <chr> & <dbl> & <chr> & <chr> & <chr> & <dbl> & <dbl> & <dbl> & <dbl> & <dbl> & <chr> & <chr> & <chr> & <chr> & <dbl> & <dbl> & <chr> & <chr> & <chr>\\\\\n",
       "\\hline\n",
       "\t Pooja   & Female & 37 & Ghaziabad & Working Professional & Teacher           & NA & 2 & NA & NA & 4 & 7-8 hours & Moderate  & MA    & No  & 6 & 2 & No  & No & original\\\\\n",
       "\t Reyansh & Male   & 60 & Kalyan    & Working Professional & Financial Analyst & NA & 4 & NA & NA & 3 & 5-6 hours & Unhealthy & B.Com & Yes & 0 & 4 & Yes & No & original\\\\\n",
       "\t Manvi   & Female & 42 & Bhopal    & Working Professional & Teacher           & NA & 2 & NA & NA & 3 & 5-6 hours & Moderate  & M.Com & No  & 0 & 2 & No  & No & original\\\\\n",
       "\\end{tabular}\n"
      ],
      "text/markdown": [
       "\n",
       "A tibble: 3 × 20\n",
       "\n",
       "| Name &lt;chr&gt; | Gender &lt;chr&gt; | Age &lt;dbl&gt; | City &lt;chr&gt; | Working Professional or Student &lt;chr&gt; | Profession &lt;chr&gt; | Academic Pressure &lt;dbl&gt; | Work Pressure &lt;dbl&gt; | CGPA &lt;dbl&gt; | Study Satisfaction &lt;dbl&gt; | Job Satisfaction &lt;dbl&gt; | Sleep Duration &lt;chr&gt; | Dietary Habits &lt;chr&gt; | Degree &lt;chr&gt; | Have you ever had suicidal thoughts ? &lt;chr&gt; | Work/Study Hours &lt;dbl&gt; | Financial Stress &lt;dbl&gt; | Family History of Mental Illness &lt;chr&gt; | Depression &lt;chr&gt; | data_indicator &lt;chr&gt; |\n",
       "|---|---|---|---|---|---|---|---|---|---|---|---|---|---|---|---|---|---|---|---|\n",
       "| Pooja   | Female | 37 | Ghaziabad | Working Professional | Teacher           | NA | 2 | NA | NA | 4 | 7-8 hours | Moderate  | MA    | No  | 6 | 2 | No  | No | original |\n",
       "| Reyansh | Male   | 60 | Kalyan    | Working Professional | Financial Analyst | NA | 4 | NA | NA | 3 | 5-6 hours | Unhealthy | B.Com | Yes | 0 | 4 | Yes | No | original |\n",
       "| Manvi   | Female | 42 | Bhopal    | Working Professional | Teacher           | NA | 2 | NA | NA | 3 | 5-6 hours | Moderate  | M.Com | No  | 0 | 2 | No  | No | original |\n",
       "\n"
      ],
      "text/plain": [
       "  Name    Gender Age City      Working Professional or Student\n",
       "1 Pooja   Female 37  Ghaziabad Working Professional           \n",
       "2 Reyansh Male   60  Kalyan    Working Professional           \n",
       "3 Manvi   Female 42  Bhopal    Working Professional           \n",
       "  Profession        Academic Pressure Work Pressure CGPA Study Satisfaction\n",
       "1 Teacher           NA                2             NA   NA                \n",
       "2 Financial Analyst NA                4             NA   NA                \n",
       "3 Teacher           NA                2             NA   NA                \n",
       "  Job Satisfaction Sleep Duration Dietary Habits Degree\n",
       "1 4                7-8 hours      Moderate       MA    \n",
       "2 3                5-6 hours      Unhealthy      B.Com \n",
       "3 3                5-6 hours      Moderate       M.Com \n",
       "  Have you ever had suicidal thoughts ? Work/Study Hours Financial Stress\n",
       "1 No                                    6                2               \n",
       "2 Yes                                   0                4               \n",
       "3 No                                    0                2               \n",
       "  Family History of Mental Illness Depression data_indicator\n",
       "1 No                               No         original      \n",
       "2 Yes                              No         original      \n",
       "3 No                               No         original      "
      ]
     },
     "metadata": {},
     "output_type": "display_data"
    },
    {
     "data": {
      "text/html": [
       "<table class=\"dataframe\">\n",
       "<caption>A tibble: 3 × 20</caption>\n",
       "<thead>\n",
       "\t<tr><th scope=col>Name</th><th scope=col>Gender</th><th scope=col>Age</th><th scope=col>City</th><th scope=col>Working Professional or Student</th><th scope=col>Profession</th><th scope=col>Academic Pressure</th><th scope=col>Work Pressure</th><th scope=col>CGPA</th><th scope=col>Study Satisfaction</th><th scope=col>Job Satisfaction</th><th scope=col>Sleep Duration</th><th scope=col>Dietary Habits</th><th scope=col>Degree</th><th scope=col>Have you ever had suicidal thoughts ?</th><th scope=col>Work/Study Hours</th><th scope=col>Financial Stress</th><th scope=col>Family History of Mental Illness</th><th scope=col>Depression</th><th scope=col>data_indicator</th></tr>\n",
       "\t<tr><th scope=col>&lt;chr&gt;</th><th scope=col>&lt;chr&gt;</th><th scope=col>&lt;dbl&gt;</th><th scope=col>&lt;chr&gt;</th><th scope=col>&lt;chr&gt;</th><th scope=col>&lt;chr&gt;</th><th scope=col>&lt;dbl&gt;</th><th scope=col>&lt;dbl&gt;</th><th scope=col>&lt;dbl&gt;</th><th scope=col>&lt;dbl&gt;</th><th scope=col>&lt;dbl&gt;</th><th scope=col>&lt;chr&gt;</th><th scope=col>&lt;chr&gt;</th><th scope=col>&lt;chr&gt;</th><th scope=col>&lt;chr&gt;</th><th scope=col>&lt;dbl&gt;</th><th scope=col>&lt;dbl&gt;</th><th scope=col>&lt;chr&gt;</th><th scope=col>&lt;chr&gt;</th><th scope=col>&lt;chr&gt;</th></tr>\n",
       "</thead>\n",
       "<tbody>\n",
       "\t<tr><td>Rishi </td><td>Male  </td><td>24</td><td>Visakhapatnam</td><td>Student             </td><td>NA                    </td><td> 1</td><td>NA</td><td>7.51</td><td> 4</td><td>NA</td><td>7-8 hours        </td><td>Moderate</td><td>B.Tech</td><td>No </td><td> 7</td><td>1</td><td>No </td><td>-999</td><td>test</td></tr>\n",
       "\t<tr><td>Eshita</td><td>Female</td><td>23</td><td>Kalyan       </td><td>Working Professional</td><td>Marketing Manager     </td><td>NA</td><td> 4</td><td>  NA</td><td>NA</td><td> 2</td><td>5-6 hours        </td><td>Healthy </td><td>BA    </td><td>Yes</td><td> 7</td><td>5</td><td>Yes</td><td>-999</td><td>test</td></tr>\n",
       "\t<tr><td>Gauri </td><td>Female</td><td>43</td><td>Varanasi     </td><td>Working Professional</td><td>Educational Consultant</td><td>NA</td><td> 5</td><td>  NA</td><td>NA</td><td> 2</td><td>More than 8 hours</td><td>Healthy </td><td>B.Ed  </td><td>No </td><td>11</td><td>2</td><td>No </td><td>-999</td><td>test</td></tr>\n",
       "</tbody>\n",
       "</table>\n"
      ],
      "text/latex": [
       "A tibble: 3 × 20\n",
       "\\begin{tabular}{llllllllllllllllllll}\n",
       " Name & Gender & Age & City & Working Professional or Student & Profession & Academic Pressure & Work Pressure & CGPA & Study Satisfaction & Job Satisfaction & Sleep Duration & Dietary Habits & Degree & Have you ever had suicidal thoughts ? & Work/Study Hours & Financial Stress & Family History of Mental Illness & Depression & data\\_indicator\\\\\n",
       " <chr> & <chr> & <dbl> & <chr> & <chr> & <chr> & <dbl> & <dbl> & <dbl> & <dbl> & <dbl> & <chr> & <chr> & <chr> & <chr> & <dbl> & <dbl> & <chr> & <chr> & <chr>\\\\\n",
       "\\hline\n",
       "\t Rishi  & Male   & 24 & Visakhapatnam & Student              & NA                     &  1 & NA & 7.51 &  4 & NA & 7-8 hours         & Moderate & B.Tech & No  &  7 & 1 & No  & -999 & test\\\\\n",
       "\t Eshita & Female & 23 & Kalyan        & Working Professional & Marketing Manager      & NA &  4 &   NA & NA &  2 & 5-6 hours         & Healthy  & BA     & Yes &  7 & 5 & Yes & -999 & test\\\\\n",
       "\t Gauri  & Female & 43 & Varanasi      & Working Professional & Educational Consultant & NA &  5 &   NA & NA &  2 & More than 8 hours & Healthy  & B.Ed   & No  & 11 & 2 & No  & -999 & test\\\\\n",
       "\\end{tabular}\n"
      ],
      "text/markdown": [
       "\n",
       "A tibble: 3 × 20\n",
       "\n",
       "| Name &lt;chr&gt; | Gender &lt;chr&gt; | Age &lt;dbl&gt; | City &lt;chr&gt; | Working Professional or Student &lt;chr&gt; | Profession &lt;chr&gt; | Academic Pressure &lt;dbl&gt; | Work Pressure &lt;dbl&gt; | CGPA &lt;dbl&gt; | Study Satisfaction &lt;dbl&gt; | Job Satisfaction &lt;dbl&gt; | Sleep Duration &lt;chr&gt; | Dietary Habits &lt;chr&gt; | Degree &lt;chr&gt; | Have you ever had suicidal thoughts ? &lt;chr&gt; | Work/Study Hours &lt;dbl&gt; | Financial Stress &lt;dbl&gt; | Family History of Mental Illness &lt;chr&gt; | Depression &lt;chr&gt; | data_indicator &lt;chr&gt; |\n",
       "|---|---|---|---|---|---|---|---|---|---|---|---|---|---|---|---|---|---|---|---|\n",
       "| Rishi  | Male   | 24 | Visakhapatnam | Student              | NA                     |  1 | NA | 7.51 |  4 | NA | 7-8 hours         | Moderate | B.Tech | No  |  7 | 1 | No  | -999 | test |\n",
       "| Eshita | Female | 23 | Kalyan        | Working Professional | Marketing Manager      | NA |  4 |   NA | NA |  2 | 5-6 hours         | Healthy  | BA     | Yes |  7 | 5 | Yes | -999 | test |\n",
       "| Gauri  | Female | 43 | Varanasi      | Working Professional | Educational Consultant | NA |  5 |   NA | NA |  2 | More than 8 hours | Healthy  | B.Ed   | No  | 11 | 2 | No  | -999 | test |\n",
       "\n"
      ],
      "text/plain": [
       "  Name   Gender Age City          Working Professional or Student\n",
       "1 Rishi  Male   24  Visakhapatnam Student                        \n",
       "2 Eshita Female 23  Kalyan        Working Professional           \n",
       "3 Gauri  Female 43  Varanasi      Working Professional           \n",
       "  Profession             Academic Pressure Work Pressure CGPA\n",
       "1 NA                      1                NA            7.51\n",
       "2 Marketing Manager      NA                 4              NA\n",
       "3 Educational Consultant NA                 5              NA\n",
       "  Study Satisfaction Job Satisfaction Sleep Duration    Dietary Habits Degree\n",
       "1  4                 NA               7-8 hours         Moderate       B.Tech\n",
       "2 NA                  2               5-6 hours         Healthy        BA    \n",
       "3 NA                  2               More than 8 hours Healthy        B.Ed  \n",
       "  Have you ever had suicidal thoughts ? Work/Study Hours Financial Stress\n",
       "1 No                                     7               1               \n",
       "2 Yes                                    7               5               \n",
       "3 No                                    11               2               \n",
       "  Family History of Mental Illness Depression data_indicator\n",
       "1 No                               -999       test          \n",
       "2 Yes                              -999       test          \n",
       "3 No                               -999       test          "
      ]
     },
     "metadata": {},
     "output_type": "display_data"
    }
   ],
   "source": [
    "head(full,3)\n",
    "tail(full,3)"
   ]
  },
  {
   "cell_type": "code",
   "execution_count": 8,
   "id": "e382b1e5",
   "metadata": {
    "execution": {
     "iopub.execute_input": "2024-11-02T16:38:57.356619Z",
     "iopub.status.busy": "2024-11-02T16:38:57.354760Z",
     "iopub.status.idle": "2024-11-02T16:38:57.373220Z",
     "shell.execute_reply": "2024-11-02T16:38:57.371309Z"
    },
    "papermill": {
     "duration": 0.031226,
     "end_time": "2024-11-02T16:38:57.376547",
     "exception": false,
     "start_time": "2024-11-02T16:38:57.345321",
     "status": "completed"
    },
    "tags": []
   },
   "outputs": [],
   "source": [
    "## Rename features to remove spaces with _, and strip any punctuations\n",
    "full <- \n",
    "    full %>%\n",
    "    rename_with(~ gsub(\" \", \"_\", gsub(\"[[:punct:]]\", \" \", .)))"
   ]
  },
  {
   "cell_type": "code",
   "execution_count": 9,
   "id": "a3966340",
   "metadata": {
    "execution": {
     "iopub.execute_input": "2024-11-02T16:38:57.395688Z",
     "iopub.status.busy": "2024-11-02T16:38:57.393824Z",
     "iopub.status.idle": "2024-11-02T16:38:57.415708Z",
     "shell.execute_reply": "2024-11-02T16:38:57.413128Z"
    },
    "papermill": {
     "duration": 0.035219,
     "end_time": "2024-11-02T16:38:57.419523",
     "exception": false,
     "start_time": "2024-11-02T16:38:57.384304",
     "status": "completed"
    },
    "tags": []
   },
   "outputs": [
    {
     "data": {
      "text/html": [
       "<style>\n",
       ".list-inline {list-style: none; margin:0; padding: 0}\n",
       ".list-inline>li {display: inline-block}\n",
       ".list-inline>li:not(:last-child)::after {content: \"\\00b7\"; padding: 0 .5ex}\n",
       "</style>\n",
       "<ol class=list-inline><li>'Name'</li><li>'Gender'</li><li>'Age'</li><li>'City'</li><li>'Working_Professional_or_Student'</li><li>'Profession'</li><li>'Academic_Pressure'</li><li>'Work_Pressure'</li><li>'CGPA'</li><li>'Study_Satisfaction'</li><li>'Job_Satisfaction'</li><li>'Sleep_Duration'</li><li>'Dietary_Habits'</li><li>'Degree'</li><li>'Have_you_ever_had_suicidal_thoughts__'</li><li>'Work_Study_Hours'</li><li>'Financial_Stress'</li><li>'Family_History_of_Mental_Illness'</li><li>'Depression'</li><li>'data_indicator'</li></ol>\n"
      ],
      "text/latex": [
       "\\begin{enumerate*}\n",
       "\\item 'Name'\n",
       "\\item 'Gender'\n",
       "\\item 'Age'\n",
       "\\item 'City'\n",
       "\\item 'Working\\_Professional\\_or\\_Student'\n",
       "\\item 'Profession'\n",
       "\\item 'Academic\\_Pressure'\n",
       "\\item 'Work\\_Pressure'\n",
       "\\item 'CGPA'\n",
       "\\item 'Study\\_Satisfaction'\n",
       "\\item 'Job\\_Satisfaction'\n",
       "\\item 'Sleep\\_Duration'\n",
       "\\item 'Dietary\\_Habits'\n",
       "\\item 'Degree'\n",
       "\\item 'Have\\_you\\_ever\\_had\\_suicidal\\_thoughts\\_\\_'\n",
       "\\item 'Work\\_Study\\_Hours'\n",
       "\\item 'Financial\\_Stress'\n",
       "\\item 'Family\\_History\\_of\\_Mental\\_Illness'\n",
       "\\item 'Depression'\n",
       "\\item 'data\\_indicator'\n",
       "\\end{enumerate*}\n"
      ],
      "text/markdown": [
       "1. 'Name'\n",
       "2. 'Gender'\n",
       "3. 'Age'\n",
       "4. 'City'\n",
       "5. 'Working_Professional_or_Student'\n",
       "6. 'Profession'\n",
       "7. 'Academic_Pressure'\n",
       "8. 'Work_Pressure'\n",
       "9. 'CGPA'\n",
       "10. 'Study_Satisfaction'\n",
       "11. 'Job_Satisfaction'\n",
       "12. 'Sleep_Duration'\n",
       "13. 'Dietary_Habits'\n",
       "14. 'Degree'\n",
       "15. 'Have_you_ever_had_suicidal_thoughts__'\n",
       "16. 'Work_Study_Hours'\n",
       "17. 'Financial_Stress'\n",
       "18. 'Family_History_of_Mental_Illness'\n",
       "19. 'Depression'\n",
       "20. 'data_indicator'\n",
       "\n",
       "\n"
      ],
      "text/plain": [
       " [1] \"Name\"                                 \n",
       " [2] \"Gender\"                               \n",
       " [3] \"Age\"                                  \n",
       " [4] \"City\"                                 \n",
       " [5] \"Working_Professional_or_Student\"      \n",
       " [6] \"Profession\"                           \n",
       " [7] \"Academic_Pressure\"                    \n",
       " [8] \"Work_Pressure\"                        \n",
       " [9] \"CGPA\"                                 \n",
       "[10] \"Study_Satisfaction\"                   \n",
       "[11] \"Job_Satisfaction\"                     \n",
       "[12] \"Sleep_Duration\"                       \n",
       "[13] \"Dietary_Habits\"                       \n",
       "[14] \"Degree\"                               \n",
       "[15] \"Have_you_ever_had_suicidal_thoughts__\"\n",
       "[16] \"Work_Study_Hours\"                     \n",
       "[17] \"Financial_Stress\"                     \n",
       "[18] \"Family_History_of_Mental_Illness\"     \n",
       "[19] \"Depression\"                           \n",
       "[20] \"data_indicator\"                       "
      ]
     },
     "metadata": {},
     "output_type": "display_data"
    }
   ],
   "source": [
    "names(full)"
   ]
  },
  {
   "cell_type": "code",
   "execution_count": 10,
   "id": "53de0b22",
   "metadata": {
    "execution": {
     "iopub.execute_input": "2024-11-02T16:38:57.438403Z",
     "iopub.status.busy": "2024-11-02T16:38:57.436265Z",
     "iopub.status.idle": "2024-11-02T16:38:57.883762Z",
     "shell.execute_reply": "2024-11-02T16:38:57.880924Z"
    },
    "papermill": {
     "duration": 0.460573,
     "end_time": "2024-11-02T16:38:57.887384",
     "exception": false,
     "start_time": "2024-11-02T16:38:57.426811",
     "status": "completed"
    },
    "tags": []
   },
   "outputs": [
    {
     "data": {
      "text/html": [
       "<table class=\"dataframe\">\n",
       "<caption>A data.frame: 20 × 2</caption>\n",
       "<thead>\n",
       "\t<tr><th scope=col>rowname</th><th scope=col>NA_count</th></tr>\n",
       "\t<tr><th scope=col>&lt;chr&gt;</th><th scope=col>&lt;int&gt;</th></tr>\n",
       "</thead>\n",
       "<tbody>\n",
       "\t<tr><td>Academic_Pressure                    </td><td>189890</td></tr>\n",
       "\t<tr><td>CGPA                                 </td><td>189890</td></tr>\n",
       "\t<tr><td>Study_Satisfaction                   </td><td>189890</td></tr>\n",
       "\t<tr><td>Profession                           </td><td> 61935</td></tr>\n",
       "\t<tr><td>Work_Pressure                        </td><td> 47198</td></tr>\n",
       "\t<tr><td>Job_Satisfaction                     </td><td> 47186</td></tr>\n",
       "\t<tr><td>Dietary_Habits                       </td><td>     9</td></tr>\n",
       "\t<tr><td>Degree                               </td><td>     4</td></tr>\n",
       "\t<tr><td>Financial_Stress                     </td><td>     4</td></tr>\n",
       "\t<tr><td>Name                                 </td><td>     0</td></tr>\n",
       "\t<tr><td>Gender                               </td><td>     0</td></tr>\n",
       "\t<tr><td>Age                                  </td><td>     0</td></tr>\n",
       "\t<tr><td>City                                 </td><td>     0</td></tr>\n",
       "\t<tr><td>Working_Professional_or_Student      </td><td>     0</td></tr>\n",
       "\t<tr><td>Sleep_Duration                       </td><td>     0</td></tr>\n",
       "\t<tr><td>Have_you_ever_had_suicidal_thoughts__</td><td>     0</td></tr>\n",
       "\t<tr><td>Work_Study_Hours                     </td><td>     0</td></tr>\n",
       "\t<tr><td>Family_History_of_Mental_Illness     </td><td>     0</td></tr>\n",
       "\t<tr><td>Depression                           </td><td>     0</td></tr>\n",
       "\t<tr><td>data_indicator                       </td><td>     0</td></tr>\n",
       "</tbody>\n",
       "</table>\n"
      ],
      "text/latex": [
       "A data.frame: 20 × 2\n",
       "\\begin{tabular}{ll}\n",
       " rowname & NA\\_count\\\\\n",
       " <chr> & <int>\\\\\n",
       "\\hline\n",
       "\t Academic\\_Pressure                     & 189890\\\\\n",
       "\t CGPA                                  & 189890\\\\\n",
       "\t Study\\_Satisfaction                    & 189890\\\\\n",
       "\t Profession                            &  61935\\\\\n",
       "\t Work\\_Pressure                         &  47198\\\\\n",
       "\t Job\\_Satisfaction                      &  47186\\\\\n",
       "\t Dietary\\_Habits                        &      9\\\\\n",
       "\t Degree                                &      4\\\\\n",
       "\t Financial\\_Stress                      &      4\\\\\n",
       "\t Name                                  &      0\\\\\n",
       "\t Gender                                &      0\\\\\n",
       "\t Age                                   &      0\\\\\n",
       "\t City                                  &      0\\\\\n",
       "\t Working\\_Professional\\_or\\_Student       &      0\\\\\n",
       "\t Sleep\\_Duration                        &      0\\\\\n",
       "\t Have\\_you\\_ever\\_had\\_suicidal\\_thoughts\\_\\_ &      0\\\\\n",
       "\t Work\\_Study\\_Hours                      &      0\\\\\n",
       "\t Family\\_History\\_of\\_Mental\\_Illness      &      0\\\\\n",
       "\t Depression                            &      0\\\\\n",
       "\t data\\_indicator                        &      0\\\\\n",
       "\\end{tabular}\n"
      ],
      "text/markdown": [
       "\n",
       "A data.frame: 20 × 2\n",
       "\n",
       "| rowname &lt;chr&gt; | NA_count &lt;int&gt; |\n",
       "|---|---|\n",
       "| Academic_Pressure                     | 189890 |\n",
       "| CGPA                                  | 189890 |\n",
       "| Study_Satisfaction                    | 189890 |\n",
       "| Profession                            |  61935 |\n",
       "| Work_Pressure                         |  47198 |\n",
       "| Job_Satisfaction                      |  47186 |\n",
       "| Dietary_Habits                        |      9 |\n",
       "| Degree                                |      4 |\n",
       "| Financial_Stress                      |      4 |\n",
       "| Name                                  |      0 |\n",
       "| Gender                                |      0 |\n",
       "| Age                                   |      0 |\n",
       "| City                                  |      0 |\n",
       "| Working_Professional_or_Student       |      0 |\n",
       "| Sleep_Duration                        |      0 |\n",
       "| Have_you_ever_had_suicidal_thoughts__ |      0 |\n",
       "| Work_Study_Hours                      |      0 |\n",
       "| Family_History_of_Mental_Illness      |      0 |\n",
       "| Depression                            |      0 |\n",
       "| data_indicator                        |      0 |\n",
       "\n"
      ],
      "text/plain": [
       "   rowname                               NA_count\n",
       "1  Academic_Pressure                     189890  \n",
       "2  CGPA                                  189890  \n",
       "3  Study_Satisfaction                    189890  \n",
       "4  Profession                             61935  \n",
       "5  Work_Pressure                          47198  \n",
       "6  Job_Satisfaction                       47186  \n",
       "7  Dietary_Habits                             9  \n",
       "8  Degree                                     4  \n",
       "9  Financial_Stress                           4  \n",
       "10 Name                                       0  \n",
       "11 Gender                                     0  \n",
       "12 Age                                        0  \n",
       "13 City                                       0  \n",
       "14 Working_Professional_or_Student            0  \n",
       "15 Sleep_Duration                             0  \n",
       "16 Have_you_ever_had_suicidal_thoughts__      0  \n",
       "17 Work_Study_Hours                           0  \n",
       "18 Family_History_of_Mental_Illness           0  \n",
       "19 Depression                                 0  \n",
       "20 data_indicator                             0  "
      ]
     },
     "metadata": {},
     "output_type": "display_data"
    }
   ],
   "source": [
    "## Inspects NA count\n",
    "full %>%\n",
    "    is.na() %>%\n",
    "    apply(2, sum) %>%\n",
    "    data.frame() %>%\n",
    "    rownames_to_column() %>%\n",
    "    rename(\"NA_count\"=\".\") %>%\n",
    "    arrange(desc(NA_count))"
   ]
  },
  {
   "cell_type": "code",
   "execution_count": 11,
   "id": "993d1a9f",
   "metadata": {
    "execution": {
     "iopub.execute_input": "2024-11-02T16:38:57.907079Z",
     "iopub.status.busy": "2024-11-02T16:38:57.905400Z",
     "iopub.status.idle": "2024-11-02T16:38:57.919542Z",
     "shell.execute_reply": "2024-11-02T16:38:57.917643Z"
    },
    "papermill": {
     "duration": 0.027338,
     "end_time": "2024-11-02T16:38:57.922795",
     "exception": false,
     "start_time": "2024-11-02T16:38:57.895457",
     "status": "completed"
    },
    "tags": []
   },
   "outputs": [],
   "source": [
    "## Inspects duplicate count"
   ]
  },
  {
   "cell_type": "code",
   "execution_count": 12,
   "id": "189b9ff6",
   "metadata": {
    "execution": {
     "iopub.execute_input": "2024-11-02T16:38:57.942762Z",
     "iopub.status.busy": "2024-11-02T16:38:57.941092Z",
     "iopub.status.idle": "2024-11-02T16:38:57.955382Z",
     "shell.execute_reply": "2024-11-02T16:38:57.953539Z"
    },
    "papermill": {
     "duration": 0.028172,
     "end_time": "2024-11-02T16:38:57.958686",
     "exception": false,
     "start_time": "2024-11-02T16:38:57.930514",
     "status": "completed"
    },
    "tags": []
   },
   "outputs": [],
   "source": [
    "## Encodes 'Depression' feature"
   ]
  },
  {
   "cell_type": "code",
   "execution_count": 13,
   "id": "ea2a7329",
   "metadata": {
    "execution": {
     "iopub.execute_input": "2024-11-02T16:38:57.977592Z",
     "iopub.status.busy": "2024-11-02T16:38:57.975788Z",
     "iopub.status.idle": "2024-11-02T16:38:57.990074Z",
     "shell.execute_reply": "2024-11-02T16:38:57.988264Z"
    },
    "papermill": {
     "duration": 0.027304,
     "end_time": "2024-11-02T16:38:57.993473",
     "exception": false,
     "start_time": "2024-11-02T16:38:57.966169",
     "status": "completed"
    },
    "tags": []
   },
   "outputs": [],
   "source": [
    "## Rename features to remove spaces with _, and strip any punctuations"
   ]
  },
  {
   "cell_type": "markdown",
   "id": "9af38d19",
   "metadata": {
    "papermill": {
     "duration": 0.007904,
     "end_time": "2024-11-02T16:38:58.009125",
     "exception": false,
     "start_time": "2024-11-02T16:38:58.001221",
     "status": "completed"
    },
    "tags": []
   },
   "source": [
    "# An Investigation on Numerical Features"
   ]
  },
  {
   "cell_type": "markdown",
   "id": "74a9d397",
   "metadata": {
    "papermill": {
     "duration": 0.00875,
     "end_time": "2024-11-02T16:38:58.025531",
     "exception": false,
     "start_time": "2024-11-02T16:38:58.016781",
     "status": "completed"
    },
    "tags": []
   },
   "source": [
    "# An Investigation on Categorical Features"
   ]
  },
  {
   "cell_type": "code",
   "execution_count": null,
   "id": "81c55a09",
   "metadata": {
    "papermill": {
     "duration": 0.007783,
     "end_time": "2024-11-02T16:38:58.041354",
     "exception": false,
     "start_time": "2024-11-02T16:38:58.033571",
     "status": "completed"
    },
    "tags": []
   },
   "outputs": [],
   "source": []
  }
 ],
 "metadata": {
  "kaggle": {
   "accelerator": "none",
   "dataSources": [
    {
     "databundleVersionId": 10008389,
     "sourceId": 84895,
     "sourceType": "competition"
    },
    {
     "datasetId": 5868381,
     "sourceId": 9616093,
     "sourceType": "datasetVersion"
    }
   ],
   "dockerImageVersionId": 30749,
   "isGpuEnabled": false,
   "isInternetEnabled": true,
   "language": "r",
   "sourceType": "notebook"
  },
  "kernelspec": {
   "display_name": "R",
   "language": "R",
   "name": "ir"
  },
  "language_info": {
   "codemirror_mode": "r",
   "file_extension": ".r",
   "mimetype": "text/x-r-source",
   "name": "R",
   "pygments_lexer": "r",
   "version": "4.4.0"
  },
  "papermill": {
   "default_parameters": {},
   "duration": 8.04138,
   "end_time": "2024-11-02T16:38:58.171835",
   "environment_variables": {},
   "exception": null,
   "input_path": "__notebook__.ipynb",
   "output_path": "__notebook__.ipynb",
   "parameters": {},
   "start_time": "2024-11-02T16:38:50.130455",
   "version": "2.6.0"
  }
 },
 "nbformat": 4,
 "nbformat_minor": 5
}
